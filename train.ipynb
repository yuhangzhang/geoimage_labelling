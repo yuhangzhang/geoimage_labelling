{
 "cells": [
  {
   "cell_type": "code",
   "execution_count": 1,
   "metadata": {},
   "outputs": [],
   "source": [
    "import shapefile as sf\n",
    "import numpy as np\n",
    "myfile = sf.Reader(\"/g/data1a/ge3/AEM_Model/3D_AEM_model_V3.shp\")"
   ]
  },
  {
   "cell_type": "code",
   "execution_count": 2,
   "metadata": {},
   "outputs": [],
   "source": [
    "myshaperecord = myfile.shapeRecords()"
   ]
  },
  {
   "cell_type": "code",
   "execution_count": 3,
   "metadata": {},
   "outputs": [
    {
     "data": {
      "text/plain": [
       "[('DeletionFlag', 'C', 1, 0),\n",
       " ['Id', 'N', 10, 0],\n",
       " ['unique_id', 'C', 50, 0],\n",
       " ['ref_0001', 'F', 13, 11],\n",
       " ['ref_0001vs', 'F', 13, 11],\n",
       " ['ref_0010', 'F', 13, 11],\n",
       " ['ref_0100', 'F', 13, 11],\n",
       " ['ref_0100vs', 'F', 13, 11],\n",
       " ['thick', 'F', 13, 11],\n",
       " ['wii_clip_1', 'F', 13, 11],\n",
       " ['ceno_clip_', 'F', 13, 11],\n",
       " ['X', 'F', 19, 11],\n",
       " ['Y', 'F', 19, 11],\n",
       " ['Z', 'F', 19, 11],\n",
       " ['class', 'N', 10, 0],\n",
       " ['age', 'N', 10, 0]]"
      ]
     },
     "execution_count": 3,
     "metadata": {},
     "output_type": "execute_result"
    }
   ],
   "source": [
    "#list all the attribute of a record\n",
    "myfile.fields"
   ]
  },
  {
   "cell_type": "code",
   "execution_count": 19,
   "metadata": {},
   "outputs": [
    {
     "name": "stdout",
     "output_type": "stream",
     "text": [
      "[[0, 160287, 0.000862, 0.0019, 0.00114, 0.00176, 0.000862, 4.0, 3.37731, 0.00566225, 347931.8, 7339632.5, 581.58, 0, 1]]\n"
     ]
    }
   ],
   "source": [
    "# an example record\n",
    "# note that DeletionFlag was not included\n",
    "print [#myshaperecord[0].record, \n",
    "       myshaperecord[1].record,\n",
    "       #myshaperecord[2].record\n",
    "        ]"
   ]
  },
  {
   "cell_type": "code",
   "execution_count": 130,
   "metadata": {},
   "outputs": [],
   "source": [
    "#save unique-id, AEM-values, class-id into a txt file\n",
    "\n",
    "myrecord=(x.record for x in myshaperecord if x.record[-2]>0)\n",
    "\n",
    "from itertools import cycle, compress\n",
    "\n",
    "criteria = cycle([False]+[True]*9+[False]*2+[True]*3)\n",
    "\n",
    "with open('AEM.txt','w') as fw:\n",
    "    for r in myrecord:\n",
    "        if r[1]!='Surface':         \n",
    "            r[1]=int(r[1])         \n",
    "            np.savetxt(fw, np.array(list(compress(r,criteria))).reshape(1,-1), fmt='%s')"
   ]
  },
  {
   "cell_type": "code",
   "execution_count": 31,
   "metadata": {},
   "outputs": [
    {
     "data": {
      "text/plain": [
       "42257"
      ]
     },
     "execution_count": 31,
     "metadata": {},
     "output_type": "execute_result"
    }
   ],
   "source": [
    "#count the number of distinct unique-id \n",
    "#each unique-id corresponds to a drill hole\n",
    "#surface counts for one\n",
    "\n",
    "len(set(x.record[1] for x in myshaperecord))\n",
    " "
   ]
  },
  {
   "cell_type": "code",
   "execution_count": 32,
   "metadata": {},
   "outputs": [
    {
     "data": {
      "text/plain": [
       "160287"
      ]
     },
     "execution_count": 32,
     "metadata": {},
     "output_type": "execute_result"
    }
   ],
   "source": [
    "min(x.record[1] for x in myshaperecord)"
   ]
  },
  {
   "cell_type": "code",
   "execution_count": 33,
   "metadata": {},
   "outputs": [
    {
     "data": {
      "text/plain": [
       "202542"
      ]
     },
     "execution_count": 33,
     "metadata": {},
     "output_type": "execute_result"
    }
   ],
   "source": [
    "max(x.record[1] for x in myshaperecord if x.record[1]!='Surface')"
   ]
  },
  {
   "cell_type": "code",
   "execution_count": 34,
   "metadata": {},
   "outputs": [
    {
     "data": {
      "text/plain": [
       "42255"
      ]
     },
     "execution_count": 34,
     "metadata": {},
     "output_type": "execute_result"
    }
   ],
   "source": [
    "202542-160287"
   ]
  },
  {
   "cell_type": "code",
   "execution_count": 35,
   "metadata": {},
   "outputs": [],
   "source": [
    "#steps above shows, the unique-id are continuous between 160287 and 202542\n",
    "#let us take those >0 and <='200000' as training, and the other as testing\n",
    "#those =0 are surfaces with non-usable AEM"
   ]
  },
  {
   "cell_type": "code",
   "execution_count": 228,
   "metadata": {},
   "outputs": [
    {
     "name": "stdout",
     "output_type": "stream",
     "text": [
      "[  0. 456.  77.  99.  23.   0.   0. 116. 219.  92.]\n",
      "1082\n"
     ]
    }
   ],
   "source": [
    "#count the occurrance of each class in training data\n",
    "\n",
    "class_count=np.zeros(10)\n",
    "total_count=0\n",
    "y=(x.record for x in myshaperecord if x.record[1]<=175000 and x.record[-2]>0)\n",
    "for x in y:\n",
    "    class_count[x[13]]=class_count[x[13]]+1\n",
    "    total_count=total_count+1\n",
    "print class_count \n",
    "print total_count"
   ]
  },
  {
   "cell_type": "code",
   "execution_count": 132,
   "metadata": {},
   "outputs": [
    {
     "name": "stdout",
     "output_type": "stream",
     "text": [
      "[ 0. 94. 41. 70. 10.  0.  0. 90. 83. 76.]\n",
      "464\n"
     ]
    }
   ],
   "source": [
    "#count the occurrance of each class in testing data\n",
    "\n",
    "class_count = np.zeros(10)\n",
    "total_count = 0\n",
    "y=(x.record for x in myshaperecord if x.record[1]>175000 and x.record[-2]>0 and x.record[1]!='Surface')\n",
    "\n",
    "for x in y:\n",
    "    class_count[x[13]] = class_count[x[13]]+1\n",
    "    total_count = total_count+1\n",
    "print class_count \n",
    "print total_count"
   ]
  },
  {
   "cell_type": "code",
   "execution_count": 133,
   "metadata": {},
   "outputs": [],
   "source": [
    "#construct kd tree using the testing data\n",
    "\n",
    "\n",
    "import scipy as sp\n",
    "import scipy.spatial\n",
    "import itertools as it\n",
    "\n",
    "\n",
    "fr = open('AEM.txt')\n",
    "\n",
    "lines = np.array([map(float, line.split()) for line in fr])\n",
    "\n",
    "\n",
    "#extract label, drop label and unique-id\n",
    "label = lines[:,-2]\n",
    "lines = np.delete(lines,0,1)\n",
    "lines = np.delete(lines,-2,1)\n",
    "\n",
    "#whitening transform\n",
    "lines_whitened = (lines-lines.min(axis=0))/(lines.max(axis=0)-lines.min(axis=0))"
   ]
  },
  {
   "cell_type": "code",
   "execution_count": 135,
   "metadata": {
    "scrolled": true
   },
   "outputs": [],
   "source": [
    "data_index=scipy.spatial.KDTree(lines_whitened)"
   ]
  },
  {
   "cell_type": "code",
   "execution_count": 134,
   "metadata": {},
   "outputs": [
    {
     "data": {
      "text/plain": [
       "(1043, 10)"
      ]
     },
     "execution_count": 134,
     "metadata": {},
     "output_type": "execute_result"
    }
   ],
   "source": [
    "lines_whitened.shape"
   ]
  },
  {
   "cell_type": "code",
   "execution_count": 148,
   "metadata": {},
   "outputs": [
    {
     "data": {
      "text/plain": [
       "array([[0.00314949, 0.00743494, 0.00355789, 0.00435484, 0.00314949,\n",
       "        0.81352459, 0.05343313, 0.        , 0.41118541, 0.        ],\n",
       "       [0.00320308, 0.00594697, 0.00354698, 0.00470968, 0.00320308,\n",
       "        0.9023845 , 0.05135549, 0.        , 0.37235569, 0.        ]])"
      ]
     },
     "execution_count": 148,
     "metadata": {},
     "output_type": "execute_result"
    }
   ],
   "source": [
    "lines_whitened[26:28]"
   ]
  },
  {
   "cell_type": "code",
   "execution_count": 142,
   "metadata": {},
   "outputs": [
    {
     "data": {
      "text/plain": [
       "array([8., 9.])"
      ]
     },
     "execution_count": 142,
     "metadata": {},
     "output_type": "execute_result"
    }
   ],
   "source": [
    "label[26:28]"
   ]
  },
  {
   "cell_type": "code",
   "execution_count": 156,
   "metadata": {},
   "outputs": [],
   "source": [
    "prediction=data_index.query(lines_whitened,2)"
   ]
  },
  {
   "cell_type": "code",
   "execution_count": 161,
   "metadata": {},
   "outputs": [
    {
     "data": {
      "text/plain": [
       "array([   1,    0,    1, ..., 1005, 1042, 1041])"
      ]
     },
     "execution_count": 161,
     "metadata": {},
     "output_type": "execute_result"
    }
   ],
   "source": [
    "prediction[1][:,1]"
   ]
  },
  {
   "cell_type": "code",
   "execution_count": 162,
   "metadata": {},
   "outputs": [
    {
     "data": {
      "text/plain": [
       "array([   0,    1,    2, ..., 1040, 1041, 1042])"
      ]
     },
     "execution_count": 162,
     "metadata": {},
     "output_type": "execute_result"
    }
   ],
   "source": [
    "prediction[1][:,0]"
   ]
  },
  {
   "cell_type": "code",
   "execution_count": 167,
   "metadata": {},
   "outputs": [],
   "source": [
    "label_predicted = label[prediction[1][:,1]]"
   ]
  },
  {
   "cell_type": "code",
   "execution_count": 178,
   "metadata": {},
   "outputs": [
    {
     "data": {
      "text/plain": [
       "array([1., 1., 1., 1., 1., 1., 1., 1., 1., 1.])"
      ]
     },
     "execution_count": 178,
     "metadata": {},
     "output_type": "execute_result"
    }
   ],
   "source": [
    "label_predicted[200:210]"
   ]
  },
  {
   "cell_type": "code",
   "execution_count": 177,
   "metadata": {},
   "outputs": [
    {
     "data": {
      "text/plain": [
       "array([1., 1., 1., 1., 1., 1., 1., 1., 1., 1.])"
      ]
     },
     "execution_count": 177,
     "metadata": {},
     "output_type": "execute_result"
    }
   ],
   "source": [
    "label[200:210]"
   ]
  },
  {
   "cell_type": "code",
   "execution_count": 174,
   "metadata": {},
   "outputs": [
    {
     "data": {
      "text/plain": [
       "87"
      ]
     },
     "execution_count": 174,
     "metadata": {},
     "output_type": "execute_result"
    }
   ],
   "source": [
    "sum(map(bool,label-label_predicted))"
   ]
  },
  {
   "cell_type": "code",
   "execution_count": 175,
   "metadata": {},
   "outputs": [
    {
     "data": {
      "text/plain": [
       "0.08341323106423777"
      ]
     },
     "execution_count": 175,
     "metadata": {},
     "output_type": "execute_result"
    }
   ],
   "source": [
    "87.0/1043"
   ]
  },
  {
   "cell_type": "code",
   "execution_count": 193,
   "metadata": {},
   "outputs": [
    {
     "name": "stdout",
     "output_type": "stream",
     "text": [
      "[  0. 453.  73.  92.  17.   0.   0. 101. 215.  92.]\n",
      "1043\n"
     ]
    }
   ],
   "source": [
    "class_count = np.zeros(10)\n",
    "total_count = 0\n",
    "\n",
    "for x in label:\n",
    "    x=int(x)\n",
    "    class_count[x] = class_count[x]+1\n",
    "    total_count = total_count+1\n",
    "print class_count \n",
    "print total_count"
   ]
  },
  {
   "cell_type": "code",
   "execution_count": 194,
   "metadata": {},
   "outputs": [
    {
     "name": "stdout",
     "output_type": "stream",
     "text": [
      "[  0. 444.  82.  90.  18.   0.   0. 105. 213.  91.]\n",
      "1043\n"
     ]
    }
   ],
   "source": [
    "class_count = np.zeros(10)\n",
    "total_count = 0\n",
    "\n",
    "for x in label_predicted:\n",
    "    x=int(x)\n",
    "    class_count[x] = class_count[x]+1\n",
    "    total_count = total_count+1\n",
    "print class_count \n",
    "print total_count"
   ]
  },
  {
   "cell_type": "code",
   "execution_count": 221,
   "metadata": {},
   "outputs": [],
   "source": [
    "confusion = np.zeros([10,10])\n",
    "\n",
    "for x in zip(label_predicted,label):\n",
    "    confusion[tuple(map(int,x))]=confusion[tuple(map(int,x))]+1\n",
    "\n"
   ]
  },
  {
   "cell_type": "code",
   "execution_count": 222,
   "metadata": {},
   "outputs": [
    {
     "data": {
      "text/plain": [
       "array([[  0.,   0.,   0.,   0.,   0.,   0.,   0.,   0.,   0.,   0.],\n",
       "       [  0., 439.,   3.,   1.,   1.,   0.,   0.,   0.,   0.,   0.],\n",
       "       [  0.,  12.,  58.,   6.,   1.,   0.,   0.,   5.,   0.,   0.],\n",
       "       [  0.,   1.,   7.,  73.,   0.,   0.,   0.,   9.,   0.,   0.],\n",
       "       [  0.,   1.,   1.,   1.,  12.,   0.,   0.,   2.,   1.,   0.],\n",
       "       [  0.,   0.,   0.,   0.,   0.,   0.,   0.,   0.,   0.,   0.],\n",
       "       [  0.,   0.,   0.,   0.,   0.,   0.,   0.,   0.,   0.,   0.],\n",
       "       [  0.,   0.,   4.,  11.,   3.,   0.,   0.,  83.,   4.,   0.],\n",
       "       [  0.,   0.,   0.,   0.,   0.,   0.,   0.,   2., 205.,   6.],\n",
       "       [  0.,   0.,   0.,   0.,   0.,   0.,   0.,   0.,   5.,  86.]])"
      ]
     },
     "execution_count": 222,
     "metadata": {},
     "output_type": "execute_result"
    }
   ],
   "source": [
    "confusion[]"
   ]
  },
  {
   "cell_type": "code",
   "execution_count": 224,
   "metadata": {},
   "outputs": [
    {
     "name": "stdout",
     "output_type": "stream",
     "text": [
      "3\n"
     ]
    }
   ],
   "source": [
    "y=0\n",
    "for x in zip(label_predicted,label):\n",
    "    if x[0]==1 and x[1]==2:\n",
    "        y=y+1\n",
    "print y"
   ]
  },
  {
   "cell_type": "code",
   "execution_count": 231,
   "metadata": {},
   "outputs": [
    {
     "data": {
      "text/plain": [
       "array([  0., 453.,  73.,  92.,  17.,   0.,   0., 101., 215.,  92.])"
      ]
     },
     "execution_count": 231,
     "metadata": {},
     "output_type": "execute_result"
    }
   ],
   "source": [
    "confusion.sum(axis=0)"
   ]
  },
  {
   "cell_type": "code",
   "execution_count": 230,
   "metadata": {},
   "outputs": [
    {
     "data": {
      "text/plain": [
       "array([  0., 444.,  82.,  90.,  18.,   0.,   0., 105., 213.,  91.])"
      ]
     },
     "execution_count": 230,
     "metadata": {},
     "output_type": "execute_result"
    }
   ],
   "source": [
    "confusion.sum(axis=1)"
   ]
  },
  {
   "cell_type": "code",
   "execution_count": 220,
   "metadata": {},
   "outputs": [
    {
     "data": {
      "text/plain": [
       "0.0"
      ]
     },
     "execution_count": 220,
     "metadata": {},
     "output_type": "execute_result"
    }
   ],
   "source": [
    "conf[tuple(map(int,confusion[1]))]"
   ]
  },
  {
   "cell_type": "code",
   "execution_count": 2,
   "metadata": {},
   "outputs": [],
   "source": [
    "#construct kd tree using the testing data\n",
    "\n",
    "import numpy as np\n",
    "import scipy as sp\n",
    "import scipy.spatial\n",
    "import itertools as it\n",
    "\n",
    "\n",
    "fr = open('AEM.txt')\n",
    "\n",
    "lines = np.array([map(float, line.split()) for line in fr])"
   ]
  },
  {
   "cell_type": "code",
   "execution_count": 7,
   "metadata": {},
   "outputs": [
    {
     "name": "stdout",
     "output_type": "stream",
     "text": [
      "345\n"
     ]
    }
   ],
   "source": [
    "c=0\n",
    "for x in lines:\n",
    "    if x[-1] ==1 :\n",
    "        c=c+1\n",
    "print c"
   ]
  },
  {
   "cell_type": "code",
   "execution_count": 9,
   "metadata": {},
   "outputs": [
    {
     "data": {
      "text/plain": [
       "array([[1.61608e+05, 3.39000e-02, 1.83000e-02, 3.04000e-02, 2.69000e-02,\n",
       "        3.39000e-02, 3.25600e+01, 2.64657e+00, 2.10540e-02, 3.50350e+02,\n",
       "        8.00000e+00, 1.00000e+00],\n",
       "       [1.61608e+05, 1.33000e-02, 1.39000e-02, 1.56000e-02, 2.63000e-02,\n",
       "        1.33000e-02, 3.58200e+01, 2.62010e+00, 2.10540e-02, 3.16160e+02,\n",
       "        9.00000e+00, 1.00000e+00]])"
      ]
     },
     "execution_count": 9,
     "metadata": {},
     "output_type": "execute_result"
    }
   ],
   "source": [
    "lines[142:144]"
   ]
  },
  {
   "cell_type": "code",
   "execution_count": 217,
   "metadata": {},
   "outputs": [
    {
     "data": {
      "text/plain": [
       "list"
      ]
     },
     "execution_count": 217,
     "metadata": {},
     "output_type": "execute_result"
    }
   ],
   "source": [
    "type(map(int ,x))"
   ]
  },
  {
   "cell_type": "code",
   "execution_count": 233,
   "metadata": {},
   "outputs": [
    {
     "data": {
      "text/plain": [
       "array([[   0,    1],\n",
       "       [   1,    0],\n",
       "       [   2,    1],\n",
       "       ...,\n",
       "       [1040, 1005],\n",
       "       [1041, 1042],\n",
       "       [1042, 1041]])"
      ]
     },
     "execution_count": 233,
     "metadata": {},
     "output_type": "execute_result"
    }
   ],
   "source": [
    "prediction[1]"
   ]
  },
  {
   "cell_type": "code",
   "execution_count": 234,
   "metadata": {},
   "outputs": [],
   "source": [
    "fr = open('AEM.txt')\n",
    "\n",
    "lines = np.array([map(float, line.split()) for line in fr])\n",
    "\n",
    "\n",
    "#extract label, drop label and unique-id\n",
    "label = lines[:,-2]\n",
    "lines = np.delete(lines,0,1)\n",
    "lines = np.delete(lines,-2,1)\n",
    "\n",
    "#whitening transform\n",
    "lines_whitened = (lines-lines.min(axis=0))/(lines.max(axis=0)-lines.min(axis=0))"
   ]
  },
  {
   "cell_type": "code",
   "execution_count": 244,
   "metadata": {},
   "outputs": [],
   "source": [
    "data_index1=scipy.spatial.KDTree(lines_whitened[0:500])\n",
    "prediction=data_index1.query(lines_whitened,2)\n",
    "label_predicted = label[prediction[1][:,0]]"
   ]
  },
  {
   "cell_type": "code",
   "execution_count": 245,
   "metadata": {},
   "outputs": [
    {
     "data": {
      "text/plain": [
       "176"
      ]
     },
     "execution_count": 245,
     "metadata": {},
     "output_type": "execute_result"
    }
   ],
   "source": [
    "sum(map(bool,label-label_predicted)[500:])"
   ]
  },
  {
   "cell_type": "code",
   "execution_count": 241,
   "metadata": {},
   "outputs": [
    {
     "data": {
      "text/plain": [
       "0.11049723756906077"
      ]
     },
     "execution_count": 241,
     "metadata": {},
     "output_type": "execute_result"
    }
   ],
   "source": [
    "60.0/543"
   ]
  },
  {
   "cell_type": "code",
   "execution_count": 240,
   "metadata": {},
   "outputs": [
    {
     "data": {
      "text/plain": [
       "543"
      ]
     },
     "execution_count": 240,
     "metadata": {},
     "output_type": "execute_result"
    }
   ],
   "source": [
    "len(label[500:])"
   ]
  },
  {
   "cell_type": "code",
   "execution_count": 387,
   "metadata": {},
   "outputs": [],
   "source": [
    "def run(train,test):\n",
    "    train_label = train[:,-2]\n",
    "    train_lines = np.delete(train,0,1)\n",
    "    train_lines = np.delete(train_lines,-2,1)\n",
    "    \n",
    "    test_label = test[:,-2]\n",
    "    test_lines = np.delete(test,0,1)\n",
    "    test_lines = np.delete(test_lines,-2,1)    \n",
    "\n",
    "    train_whitened = (train_lines-train_lines.min(axis=0))/(train_lines.max(axis=0)-train_lines.min(axis=0))\n",
    "    test_whitened = (test_lines-train_lines.min(axis=0))/(train_lines.max(axis=0)-train_lines.min(axis=0))\n",
    "    \n",
    "    data_index = scipy.spatial.KDTree(train_whitened)\n",
    "    prediction = data_index.query(test_whitened,1)\n",
    "    label_predicted = train_label[prediction[1]]\n",
    "    \n",
    "    return float(sum(map(bool,test_label-label_predicted)))/len(test_label)\n",
    "    \n",
    "\n",
    "def cross_fold(fid):\n",
    "    fr = open('AEM.txt')\n",
    "    lines = np.array([map(float, line.split()) for line in fr])\n",
    "    folds = list(set(lines[:,0]))\n",
    "    \n",
    "    train = np.array([x for x in lines if x[0]!=folds[fid]])\n",
    "    test = np.array([x for x in lines if x[0]==folds[fid]])\n",
    "    return run(train,test)\n"
   ]
  },
  {
   "cell_type": "code",
   "execution_count": 388,
   "metadata": {},
   "outputs": [],
   "source": [
    "error=[cross_fold(x) for x in range(51)]"
   ]
  },
  {
   "cell_type": "code",
   "execution_count": 389,
   "metadata": {},
   "outputs": [
    {
     "data": {
      "text/plain": [
       "0.21175788054013026"
      ]
     },
     "execution_count": 389,
     "metadata": {},
     "output_type": "execute_result"
    }
   ],
   "source": [
    "np.mean(error)"
   ]
  },
  {
   "cell_type": "code",
   "execution_count": 393,
   "metadata": {},
   "outputs": [
    {
     "data": {
      "text/plain": [
       "[0.6666666666666666,\n",
       " 0.3333333333333333,\n",
       " 0.5,\n",
       " 0.14814814814814814,\n",
       " 0.4666666666666667,\n",
       " 0.5,\n",
       " 0.26666666666666666,\n",
       " 0.3,\n",
       " 0.03333333333333333,\n",
       " 0.0,\n",
       " 0.0,\n",
       " 0.4,\n",
       " 0.1,\n",
       " 0.13333333333333333,\n",
       " 0.0,\n",
       " 0.1,\n",
       " 0.06666666666666667,\n",
       " 0.03333333333333333,\n",
       " 0.06666666666666667,\n",
       " 0.3157894736842105,\n",
       " 0.3333333333333333,\n",
       " 0.4,\n",
       " 0.2,\n",
       " 0.25,\n",
       " 0.0,\n",
       " 0.06666666666666667,\n",
       " 0.0,\n",
       " 0.2,\n",
       " 0.23333333333333334,\n",
       " 0.0,\n",
       " 0.2,\n",
       " 0.16666666666666666,\n",
       " 0.0,\n",
       " 0.16666666666666666,\n",
       " 0.0,\n",
       " 0.1,\n",
       " 1.0,\n",
       " 0.5333333333333333,\n",
       " 0.06666666666666667,\n",
       " 0.8571428571428571,\n",
       " 0.2,\n",
       " 0.14814814814814814,\n",
       " 0.2,\n",
       " 0.08333333333333333,\n",
       " 0.3,\n",
       " 0.17857142857142858,\n",
       " 0.18518518518518517,\n",
       " 0.0,\n",
       " 0.13333333333333333,\n",
       " 0.16666666666666666,\n",
       " 0.0]"
      ]
     },
     "execution_count": 393,
     "metadata": {},
     "output_type": "execute_result"
    }
   ],
   "source": [
    "error"
   ]
  },
  {
   "cell_type": "code",
   "execution_count": 396,
   "metadata": {},
   "outputs": [
    {
     "data": {
      "text/plain": [
       "0.14983353445341752"
      ]
     },
     "execution_count": 396,
     "metadata": {},
     "output_type": "execute_result"
    }
   ],
   "source": [
    "np.mean([x for x in error if x<0.5])"
   ]
  },
  {
   "cell_type": "code",
   "execution_count": 371,
   "metadata": {},
   "outputs": [
    {
     "data": {
      "text/plain": [
       "51"
      ]
     },
     "execution_count": 371,
     "metadata": {},
     "output_type": "execute_result"
    }
   ],
   "source": [
    "len(set(lines[:,0]))"
   ]
  },
  {
   "cell_type": "code",
   "execution_count": 336,
   "metadata": {},
   "outputs": [
    {
     "name": "stdout",
     "output_type": "stream",
     "text": [
      "[  0. 453.  73.  92.  15.   0.   0. 101.  83.  76.]\n",
      "893\n"
     ]
    }
   ],
   "source": [
    "class_count = np.zeros(10)\n",
    "total_count = 0\n",
    "\n",
    "for x in label[150:]:\n",
    "    x=int(x)\n",
    "    class_count[x] = class_count[x]+1\n",
    "    total_count = total_count+1\n",
    "print class_count \n",
    "print total_count"
   ]
  },
  {
   "cell_type": "code",
   "execution_count": 386,
   "metadata": {},
   "outputs": [
    {
     "ename": "TypeError",
     "evalue": "list indices must be integers, not tuple",
     "output_type": "error",
     "traceback": [
      "\u001b[0;31m---------------------------------------------------------------------------\u001b[0m",
      "\u001b[0;31mTypeError\u001b[0m                                 Traceback (most recent call last)",
      "\u001b[0;32m<ipython-input-386-c668eba6953c>\u001b[0m in \u001b[0;36m<module>\u001b[0;34m()\u001b[0m\n\u001b[1;32m      1\u001b[0m \u001b[0;34m\u001b[0m\u001b[0m\n\u001b[0;32m----> 2\u001b[0;31m \u001b[0mtrain\u001b[0m\u001b[0;34m[\u001b[0m\u001b[0;34m:\u001b[0m\u001b[0;34m,\u001b[0m\u001b[0;34m-\u001b[0m\u001b[0;36m2\u001b[0m\u001b[0;34m]\u001b[0m\u001b[0;34m\u001b[0m\u001b[0m\n\u001b[0m",
      "\u001b[0;31mTypeError\u001b[0m: list indices must be integers, not tuple"
     ]
    }
   ],
   "source": [
    "\n",
    "train[:,-2]"
   ]
  },
  {
   "cell_type": "code",
   "execution_count": 400,
   "metadata": {},
   "outputs": [],
   "source": [
    "myrecord=[x.record[10:13] for x in myshaperecord]"
   ]
  },
  {
   "cell_type": "code",
   "execution_count": 401,
   "metadata": {},
   "outputs": [
    {
     "data": {
      "text/plain": [
       "1309936"
      ]
     },
     "execution_count": 401,
     "metadata": {},
     "output_type": "execute_result"
    }
   ],
   "source": [
    "len(myrecord)"
   ]
  },
  {
   "cell_type": "code",
   "execution_count": 404,
   "metadata": {},
   "outputs": [],
   "source": [
    "myrecord=np.array(myrecord)"
   ]
  },
  {
   "cell_type": "code",
   "execution_count": 405,
   "metadata": {},
   "outputs": [
    {
     "data": {
      "text/plain": [
       "array([347931.8, 347931.8, 347931.8, 347931.8, 347931.8, 347931.8,\n",
       "       347931.8, 347931.8, 347931.8, 347931.8, 347931.8, 347931.8,\n",
       "       347931.8, 347931.8, 347931.8, 347931.8, 347931.8, 347931.8,\n",
       "       347931.8, 347931.8, 347931.8, 347931.8, 347931.8, 347931.8,\n",
       "       347931.8, 347931.8, 347931.8, 347931.8, 347931.8, 347931.8,\n",
       "       347931.8, 347942.7, 347942.7, 347942.7, 347942.7, 347942.7,\n",
       "       347942.7, 347942.7, 347942.7, 347942.7, 347942.7, 347942.7,\n",
       "       347942.7, 347942.7, 347942.7, 347942.7, 347942.7, 347942.7,\n",
       "       347942.7, 347942.7, 347942.7, 347942.7, 347942.7, 347942.7,\n",
       "       347942.7, 347942.7, 347942.7, 347942.7, 347942.7, 347942.7,\n",
       "       347942.7, 347942.7, 347953.7, 347953.7, 347953.7, 347953.7,\n",
       "       347953.7, 347953.7, 347953.7, 347953.7, 347953.7, 347953.7,\n",
       "       347953.7, 347953.7, 347953.7, 347953.7, 347953.7, 347953.7,\n",
       "       347953.7, 347953.7, 347953.7, 347953.7, 347953.7, 347953.7,\n",
       "       347953.7, 347953.7, 347953.7, 347953.7, 347953.7, 347953.7,\n",
       "       347953.7, 347953.7, 347953.7, 347964.6, 347964.6, 347964.6,\n",
       "       347964.6, 347964.6, 347964.6, 347964.6])"
      ]
     },
     "execution_count": 405,
     "metadata": {},
     "output_type": "execute_result"
    }
   ],
   "source": [
    "myrecord[0:100,0]"
   ]
  },
  {
   "cell_type": "code",
   "execution_count": 406,
   "metadata": {},
   "outputs": [
    {
     "data": {
      "text/plain": [
       "array([7339632.5, 7339632.5, 7339632.5, 7339632.5, 7339632.5, 7339632.5,\n",
       "       7339632.5, 7339632.5, 7339632.5, 7339632.5, 7339632.5, 7339632.5,\n",
       "       7339632.5, 7339632.5, 7339632.5, 7339632.5, 7339632.5, 7339632.5,\n",
       "       7339632.5, 7339632.5, 7339632.5, 7339632.5, 7339632.5, 7339632.5,\n",
       "       7339632.5, 7339632.5, 7339632.5, 7339632.5, 7339632.5, 7339632.5,\n",
       "       7339632.5, 7339640.7, 7339640.7, 7339640.7, 7339640.7, 7339640.7,\n",
       "       7339640.7, 7339640.7, 7339640.7, 7339640.7, 7339640.7, 7339640.7,\n",
       "       7339640.7, 7339640.7, 7339640.7, 7339640.7, 7339640.7, 7339640.7,\n",
       "       7339640.7, 7339640.7, 7339640.7, 7339640.7, 7339640.7, 7339640.7,\n",
       "       7339640.7, 7339640.7, 7339640.7, 7339640.7, 7339640.7, 7339640.7,\n",
       "       7339640.7, 7339640.7, 7339648.8, 7339648.8, 7339648.8, 7339648.8,\n",
       "       7339648.8, 7339648.8, 7339648.8, 7339648.8, 7339648.8, 7339648.8,\n",
       "       7339648.8, 7339648.8, 7339648.8, 7339648.8, 7339648.8, 7339648.8,\n",
       "       7339648.8, 7339648.8, 7339648.8, 7339648.8, 7339648.8, 7339648.8,\n",
       "       7339648.8, 7339648.8, 7339648.8, 7339648.8, 7339648.8, 7339648.8,\n",
       "       7339648.8, 7339648.8, 7339648.8, 7339657. , 7339657. , 7339657. ,\n",
       "       7339657. , 7339657. , 7339657. , 7339657. ])"
      ]
     },
     "execution_count": 406,
     "metadata": {},
     "output_type": "execute_result"
    }
   ],
   "source": [
    "myrecord[0:100,1]"
   ]
  },
  {
   "cell_type": "code",
   "execution_count": 407,
   "metadata": {},
   "outputs": [
    {
     "data": {
      "text/plain": [
       "array([583.58 , 581.58 , 577.38 , 572.76 , 567.68 , 562.09 , 555.94 ,\n",
       "       549.175, 541.735, 533.555, 524.555, 514.655, 503.765, 491.785,\n",
       "       478.605, 464.105, 448.155, 430.61 , 411.31 , 390.08 , 366.73 ,\n",
       "       341.045, 312.79 , 281.71 , 247.52 , 209.91 , 168.54 , 123.035,\n",
       "        72.98 ,  17.92 , -39.76 , 583.63 , 581.63 , 577.43 , 572.81 ,\n",
       "       567.73 , 562.14 , 555.99 , 549.225, 541.785, 533.605, 524.605,\n",
       "       514.705, 503.815, 491.835, 478.655, 464.155, 448.205, 430.66 ,\n",
       "       411.36 , 390.13 , 366.78 , 341.095, 312.84 , 281.76 , 247.57 ,\n",
       "       209.96 , 168.59 , 123.085,  73.03 ,  17.97 , -39.71 , 583.97 ,\n",
       "       581.97 , 577.77 , 573.15 , 568.07 , 562.48 , 556.33 , 549.565,\n",
       "       542.125, 533.945, 524.945, 515.045, 504.155, 492.175, 478.995,\n",
       "       464.495, 448.545, 431.   , 411.7  , 390.47 , 367.12 , 341.435,\n",
       "       313.18 , 282.1  , 247.91 , 210.3  , 168.93 , 123.425,  73.37 ,\n",
       "        18.31 , -39.37 , 584.29 , 582.29 , 578.09 , 573.47 , 568.39 ,\n",
       "       562.8  , 556.65 ])"
      ]
     },
     "execution_count": 407,
     "metadata": {},
     "output_type": "execute_result"
    }
   ],
   "source": [
    "myrecord[0:100,2]"
   ]
  },
  {
   "cell_type": "code",
   "execution_count": 5,
   "metadata": {},
   "outputs": [
    {
     "ename": "SyntaxError",
     "evalue": "invalid syntax (<ipython-input-5-054c82024b60>, line 1)",
     "output_type": "error",
     "traceback": [
      "\u001b[0;36m  File \u001b[0;32m\"<ipython-input-5-054c82024b60>\"\u001b[0;36m, line \u001b[0;32m1\u001b[0m\n\u001b[0;31m    install_ext https://raw.github.com/cpcloud/ipython-autotime/master/autotime.py\u001b[0m\n\u001b[0m                    ^\u001b[0m\n\u001b[0;31mSyntaxError\u001b[0m\u001b[0;31m:\u001b[0m invalid syntax\n"
     ]
    }
   ],
   "source": [
    "install_ext https://raw.github.com/cpcloud/ipython-autotime/master/autotime.py"
   ]
  },
  {
   "cell_type": "code",
   "execution_count": 6,
   "metadata": {},
   "outputs": [
    {
     "data": {
      "text/plain": [
       "[<shapefile._ShapeRecord instance at 0x7f28f34d6290>,\n",
       " <shapefile._ShapeRecord instance at 0x7f28f34d62d8>,\n",
       " <shapefile._ShapeRecord instance at 0x7f28f34d6320>]"
      ]
     },
     "execution_count": 6,
     "metadata": {},
     "output_type": "execute_result"
    }
   ],
   "source": [
    "myshaperecord[:3]"
   ]
  },
  {
   "cell_type": "code",
   "execution_count": 7,
   "metadata": {},
   "outputs": [],
   "source": [
    "x=[y.record for y in myshaperecord if y.record[-2]>0]"
   ]
  },
  {
   "cell_type": "code",
   "execution_count": 10,
   "metadata": {},
   "outputs": [
    {
     "data": {
      "text/plain": [
       "[0,\n",
       " '160287',\n",
       " 0.000862,\n",
       " 0.0019,\n",
       " 0.00114,\n",
       " 0.00176,\n",
       " 0.000862,\n",
       " 4.0,\n",
       " 3.37731,\n",
       " 0.00566225,\n",
       " 347931.8,\n",
       " 7339632.5,\n",
       " 581.58,\n",
       " 0,\n",
       " 1]"
      ]
     },
     "execution_count": 10,
     "metadata": {},
     "output_type": "execute_result"
    }
   ],
   "source": [
    "myshaperecord[1].record"
   ]
  },
  {
   "cell_type": "code",
   "execution_count": 13,
   "metadata": {},
   "outputs": [
    {
     "data": {
      "text/plain": [
       "[[0,\n",
       "  '164927',\n",
       "  5.32e-05,\n",
       "  5.45e-05,\n",
       "  6.63e-05,\n",
       "  9.3,\n",
       "  5.32e-05,\n",
       "  11.41,\n",
       "  1.07123,\n",
       "  0.0,\n",
       "  351917.1,\n",
       "  7389543.0,\n",
       "  889.335,\n",
       "  1,\n",
       "  2],\n",
       " [0,\n",
       "  '164927',\n",
       "  5.88e-05,\n",
       "  6.47e-05,\n",
       "  7.18e-05,\n",
       "  0.426,\n",
       "  5.88e-05,\n",
       "  12.55,\n",
       "  1.06052,\n",
       "  0.0,\n",
       "  351917.1,\n",
       "  7389543.0,\n",
       "  877.355,\n",
       "  1,\n",
       "  2],\n",
       " [0,\n",
       "  '164927',\n",
       "  6.85e-05,\n",
       "  7.89e-05,\n",
       "  8.25e-05,\n",
       "  0.105,\n",
       "  6.85e-05,\n",
       "  13.81,\n",
       "  1.04991,\n",
       "  0.0,\n",
       "  351917.1,\n",
       "  7389543.0,\n",
       "  864.175,\n",
       "  1,\n",
       "  2]]"
      ]
     },
     "execution_count": 13,
     "metadata": {},
     "output_type": "execute_result"
    }
   ],
   "source": [
    "x[332:335]"
   ]
  },
  {
   "cell_type": "code",
   "execution_count": null,
   "metadata": {},
   "outputs": [],
   "source": []
  }
 ],
 "metadata": {
  "kernelspec": {
   "display_name": "Python 3",
   "language": "python",
   "name": "python3"
  },
  "language_info": {
   "codemirror_mode": {
    "name": "ipython",
    "version": 3
   },
   "file_extension": ".py",
   "mimetype": "text/x-python",
   "name": "python",
   "nbconvert_exporter": "python",
   "pygments_lexer": "ipython3",
   "version": "3.6.6"
  }
 },
 "nbformat": 4,
 "nbformat_minor": 2
}
