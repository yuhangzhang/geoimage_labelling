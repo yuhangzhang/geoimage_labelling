{
 "cells": [
  {
   "cell_type": "code",
   "execution_count": 79,
   "metadata": {},
   "outputs": [],
   "source": [
    "import shapefile as sf\n",
    "import numpy as np\n",
    "\n",
    "myfile = sf.Reader(\"/g/data1a/ge3/AEM_Model/3D_AEM_model_V3.shp\")\n",
    "\n",
    "myshaperecord = myfile.shapeRecords()\n",
    "\n",
    "myrecord=(x.record for x in myshaperecord)\n",
    "\n",
    "from itertools import cycle, compress\n",
    "\n",
    "\n",
    "\n",
    "with open('/g/data1a/ge3/yuhang/AEM_predict.txt','w') as fw:\n",
    "    for r in myrecord:\n",
    "        if r[1]!='Surface':         \n",
    "            r[1]=int(r[1])         \n",
    "            np.savetxt(fw, np.array(r).reshape(1,-1), fmt='%s')"
   ]
  },
  {
   "cell_type": "code",
   "execution_count": 2,
   "metadata": {},
   "outputs": [],
   "source": [
    "import numpy as np\n",
    "import scipy as sp\n",
    "import scipy.spatial\n",
    "import itertools as it\n",
    "\n",
    "\n",
    "fr = open('AEM.txt')\n",
    "\n",
    "lines = np.array([map(float, line.split()) for line in fr])\n",
    "\n",
    "\n",
    "#extract label, drop label and unique-id\n",
    "label = lines[:,-2]\n",
    "lines = np.delete(lines,0,1)\n",
    "lines = np.delete(lines,-2,1)\n",
    "\n",
    "#whitening transform\n",
    "lines_whitened = (lines-lines.min(axis=0))/(lines.max(axis=0)-lines.min(axis=0))\n",
    "\n",
    "#build index\n",
    "data_index=scipy.spatial.KDTree(lines_whitened)"
   ]
  },
  {
   "cell_type": "code",
   "execution_count": 3,
   "metadata": {},
   "outputs": [
    {
     "ename": "ValueError",
     "evalue": "operands could not be broadcast together with shapes (1267680,12) (10,) ",
     "output_type": "error",
     "traceback": [
      "\u001b[0;31m---------------------------------------------------------------------------\u001b[0m",
      "\u001b[0;31mValueError\u001b[0m                                Traceback (most recent call last)",
      "\u001b[0;32m<ipython-input-3-a7c8e7ae9d77>\u001b[0m in \u001b[0;36m<module>\u001b[0;34m()\u001b[0m\n\u001b[1;32m     10\u001b[0m \u001b[0;34m\u001b[0m\u001b[0m\n\u001b[1;32m     11\u001b[0m \u001b[0;31m#whitening transform\u001b[0m\u001b[0;34m\u001b[0m\u001b[0;34m\u001b[0m\u001b[0m\n\u001b[0;32m---> 12\u001b[0;31m \u001b[0mlines_whitened\u001b[0m \u001b[0;34m=\u001b[0m \u001b[0;34m(\u001b[0m\u001b[0mlines_test\u001b[0m\u001b[0;34m-\u001b[0m\u001b[0mlines\u001b[0m\u001b[0;34m.\u001b[0m\u001b[0mmin\u001b[0m\u001b[0;34m(\u001b[0m\u001b[0maxis\u001b[0m\u001b[0;34m=\u001b[0m\u001b[0;36m0\u001b[0m\u001b[0;34m)\u001b[0m\u001b[0;34m)\u001b[0m\u001b[0;34m/\u001b[0m\u001b[0;34m(\u001b[0m\u001b[0mlines\u001b[0m\u001b[0;34m.\u001b[0m\u001b[0mmax\u001b[0m\u001b[0;34m(\u001b[0m\u001b[0maxis\u001b[0m\u001b[0;34m=\u001b[0m\u001b[0;36m0\u001b[0m\u001b[0;34m)\u001b[0m\u001b[0;34m-\u001b[0m\u001b[0mlines\u001b[0m\u001b[0;34m.\u001b[0m\u001b[0mmin\u001b[0m\u001b[0;34m(\u001b[0m\u001b[0maxis\u001b[0m\u001b[0;34m=\u001b[0m\u001b[0;36m0\u001b[0m\u001b[0;34m)\u001b[0m\u001b[0;34m)\u001b[0m\u001b[0;34m\u001b[0m\u001b[0m\n\u001b[0m\u001b[1;32m     13\u001b[0m \u001b[0;34m\u001b[0m\u001b[0m\n\u001b[1;32m     14\u001b[0m \u001b[0;34m\u001b[0m\u001b[0m\n",
      "\u001b[0;31mValueError\u001b[0m: operands could not be broadcast together with shapes (1267680,12) (10,) "
     ]
    }
   ],
   "source": [
    "fr_test = open('/g/data1a/ge3/yuhang/AEM_predict.txt')\n",
    "\n",
    "lines_test = np.array([map(float, line.split()) for line in fr_test])\n",
    "\n",
    "#extract xyz, drop xyz and unique-id\n",
    "xyz_test = lines_test[:,10:13]\n",
    "\n",
    "\n",
    "lines_test = np.delete(lines_test,[0,1,10,11,13],1)\n",
    "\n",
    "#whitening transform\n",
    "lines_whitened = (lines_test-lines.min(axis=0))/(lines.max(axis=0)-lines.min(axis=0))\n",
    "\n",
    "\n",
    "\n",
    "\n",
    "from multiprocessing import Pool\n",
    "\n",
    "\n",
    "\n",
    "def minibatch(bid,bsize=1000):\n",
    "    return data_index.query(lines_whitened[bid*bsize:(bid+1)*bsize],1)\n",
    "\n",
    "p=Pool(10)\n",
    "prediction = p.map(minibatch,range(1268))\n",
    "\n",
    "label_predicted = label[map(int,np.hstack(prediction)[1,])]\n",
    "\n",
    "\n",
    "label_predicted_taged=zip(xyz_test,label_predicted)\n",
    "\n",
    "with open('/g/data1a/ge3/yuhang/AEM_predict_result.txt','w') as fw:\n",
    "    for r in label_predicted_taged:    \n",
    "            np.savetxt(fw, np.array(r).reshape(1,-1), fmt='%s')"
   ]
  },
  {
   "cell_type": "code",
   "execution_count": 1,
   "metadata": {},
   "outputs": [
    {
     "ename": "NameError",
     "evalue": "name 'lines_test' is not defined",
     "output_type": "error",
     "traceback": [
      "\u001b[0;31m---------------------------------------------------------------------------\u001b[0m",
      "\u001b[0;31mNameError\u001b[0m                                 Traceback (most recent call last)",
      "\u001b[0;32m<ipython-input-1-969b19621837>\u001b[0m in \u001b[0;36m<module>\u001b[0;34m()\u001b[0m\n\u001b[1;32m      1\u001b[0m \u001b[0;34m\u001b[0m\u001b[0m\n\u001b[1;32m      2\u001b[0m \u001b[0;31m#whitening transform\u001b[0m\u001b[0;34m\u001b[0m\u001b[0;34m\u001b[0m\u001b[0m\n\u001b[0;32m----> 3\u001b[0;31m \u001b[0mlines_whitened\u001b[0m \u001b[0;34m=\u001b[0m \u001b[0;34m(\u001b[0m\u001b[0mlines_test\u001b[0m\u001b[0;34m-\u001b[0m\u001b[0mlines\u001b[0m\u001b[0;34m.\u001b[0m\u001b[0mmin\u001b[0m\u001b[0;34m(\u001b[0m\u001b[0maxis\u001b[0m\u001b[0;34m=\u001b[0m\u001b[0;36m0\u001b[0m\u001b[0;34m)\u001b[0m\u001b[0;34m)\u001b[0m\u001b[0;34m/\u001b[0m\u001b[0;34m(\u001b[0m\u001b[0mlines\u001b[0m\u001b[0;34m.\u001b[0m\u001b[0mmax\u001b[0m\u001b[0;34m(\u001b[0m\u001b[0maxis\u001b[0m\u001b[0;34m=\u001b[0m\u001b[0;36m0\u001b[0m\u001b[0;34m)\u001b[0m\u001b[0;34m-\u001b[0m\u001b[0mlines\u001b[0m\u001b[0;34m.\u001b[0m\u001b[0mmin\u001b[0m\u001b[0;34m(\u001b[0m\u001b[0maxis\u001b[0m\u001b[0;34m=\u001b[0m\u001b[0;36m0\u001b[0m\u001b[0;34m)\u001b[0m\u001b[0;34m)\u001b[0m\u001b[0;34m\u001b[0m\u001b[0m\n\u001b[0m\u001b[1;32m      4\u001b[0m \u001b[0;34m\u001b[0m\u001b[0m\n\u001b[1;32m      5\u001b[0m \u001b[0;34m\u001b[0m\u001b[0m\n",
      "\u001b[0;31mNameError\u001b[0m: name 'lines_test' is not defined"
     ]
    }
   ],
   "source": [
    "\n",
    "#whitening transform\n",
    "lines_whitened = (lines_test-lines.min(axis=0))/(lines.max(axis=0)-lines.min(axis=0))\n",
    "\n",
    "\n",
    "\n",
    "\n",
    "from multiprocessing import Pool\n",
    "\n",
    "\n",
    "\n",
    "def minibatch(bid,bsize=1000):\n",
    "    return data_index.query(lines_whitened[bid*bsize:(bid+1)*bsize],1)\n",
    "\n",
    "p=Pool(10)\n",
    "prediction = p.map(minibatch,range(1268))\n",
    "\n",
    "label_predicted = label[map(int,np.hstack(prediction)[1,])]\n",
    "\n",
    "label_predicted_taged=zip(xyz_test,label_predicted)\n",
    "\n",
    "\n",
    "with open('/g/data1a/ge3/yuhang/AEM_predict_result.txt','w') as fw:\n",
    "    for r in label_predicted_taged:    \n",
    "            np.savetxt(fw, np.array(r).reshape(1,-1), fmt='%s')"
   ]
  },
  {
   "cell_type": "code",
   "execution_count": 31,
   "metadata": {},
   "outputs": [],
   "source": [
    "import sklearn.decomposition as sd\n",
    "import numpy as np\n",
    "import re\n",
    "\n",
    "fr_result = open('/g/data1a/ge3/yuhang/AEM_predict_result.txt')\n",
    "\n",
    "lines_result = [map(float,re.findall(r\"[^\\[\\], ]+\",line)) for line in fr_result]\n",
    "\n",
    "\n",
    "\n",
    "\n",
    "xy = [r[0:2] for r in lines_result]\n",
    "\n",
    "pc = sd.PCA(n_components=1).fit(xy)\n",
    "\n",
    "xy=pc.transform(xy)\n",
    "\n",
    "xy=xy-xy.min(axis=0)\n",
    "\n",
    "#xy_label = zip(xy.astype(int),[r[3] for r in lines_result])"
   ]
  },
  {
   "cell_type": "code",
   "execution_count": 374,
   "metadata": {},
   "outputs": [],
   "source": [
    "#################latest\n",
    "\n",
    "import sklearn.decomposition as sd\n",
    "import numpy as np\n",
    "import re\n",
    "\n",
    "fr_result = open('/g/data1a/ge3/yuhang/AEM_predict_result.txt')\n",
    "\n",
    "lines_result = np.array([map(float,re.findall(r\"[^\\[\\], ]+\",line)) for line in fr_result])\n",
    "\n",
    "#lines_result=lines_result[:30000]\n",
    "\n",
    "lines_result[:,2]=np.round(lines_result[:,2]/1)\n",
    "\n",
    "height = len(np.unique(lines_result[:,0:2],axis=0))\n",
    "width = len(np.unique(lines_result[:,2],axis=0))\n",
    "\n",
    "shrinkage = 1\n",
    "\n",
    "output = np.zeros([width/shrinkage+1,height/shrinkage+1],dtype=np.uint8)\n",
    "\n",
    "\n",
    "pca=sd.PCA(n_components=1)\n",
    "pca.fit(lines_result[:,0:2])\n",
    "newx=pca.transform(lines_result[:,0:2])\n",
    "x_dic=set([x[0] for x in newx])\n",
    "x_dic=dict(zip(np.sort(list(x_dic)),np.array(range(len(x_dic)))))\n",
    "\n",
    "y_dic=set(lines_result[:,2])\n",
    "y_dic=dict(zip(np.sort(list(y_dic)),np.array(range(len(y_dic)))))\n",
    "\n",
    "for r in lines_result:\n",
    "    x=x_dic[pca.transform(r[0:2].reshape(1,2))[0,0]]/shrinkage\n",
    "    y=width-y_dic[r[2]]/shrinkage      \n",
    "    output[y,x] = r[3]*28\n",
    "    #print(x,' ',y)\n",
    "   \n",
    "\n",
    "for i in range(height):\n",
    "    current=output[0,height]\n",
    "    for j in range(width,0):\n",
    "        if current==0 and output[j,i]==0:\n",
    "            output[j,i]=0\n",
    "        elif output[j,i]>0:\n",
    "            current=1\n",
    "        else:\n",
    "            continue\n",
    "            \n",
    "            \n",
    "            \n",
    "    \n",
    "for i in range(height):\n",
    "    current=0\n",
    "    for j in range(width):\n",
    "        if output[j,i]==0:\n",
    "            output[j,i]=current\n",
    "        else:\n",
    "            current=output[j,i]\n",
    "            \n",
    "    \n",
    "\n",
    "            \n",
    "#import scipy.misc as smp\n",
    "from PIL import Image\n",
    "import scipy.ndimage as ndimage\n",
    "\n",
    "#img = smp.toimage(output)\n",
    "\n",
    "#img = ndimage.maximum_filter(output, size=8)\n",
    "\n",
    "img = Image.fromarray(output)\n",
    "\n",
    "img.save(\"/g/data1a/ge3/yuhang/prediction.png\",\"PNG\")"
   ]
  },
  {
   "cell_type": "code",
   "execution_count": 388,
   "metadata": {},
   "outputs": [],
   "source": [
    "\n",
    "for r in lines_result:\n",
    "    x=x_dic[pca.transform(r[0:2].reshape(1,2))[0,0]]/shrinkage\n",
    "    y=width-y_dic[r[2]]/shrinkage      \n",
    "    output[y,x] = r[3]*28\n",
    "    #print(x,' ',y)\n",
    "   \n",
    "\n",
    "for i in range(height):\n",
    "    current=output[0,height]\n",
    "    for j in range(width,0):\n",
    "        if current==0 and output[j,i]==0:\n",
    "            output[j,i]=0\n",
    "        elif output[j,i]>0:\n",
    "            current=1\n",
    "        else:\n",
    "            output[j,i]=1\n",
    "            \n",
    "            \n",
    "            \n",
    "    \n",
    "for i in range(height):\n",
    "    current=0\n",
    "    for j in range(width):\n",
    "        if output[j,i]==1:\n",
    "            output[j,i]=current\n",
    "        else:\n",
    "            current=output[j,i]\n",
    "            \n",
    "    \n",
    "\n",
    "            \n",
    "#import scipy.misc as smp\n",
    "from PIL import Image\n",
    "import scipy.ndimage as ndimage\n",
    "\n",
    "#img = smp.toimage(output)\n",
    "\n",
    "#img = ndimage.maximum_filter(output, size=8)\n",
    "\n",
    "img = Image.fromarray(output)\n",
    "\n",
    "img.save(\"/g/data1a/ge3/yuhang/prediction.png\",\"PNG\")"
   ]
  },
  {
   "cell_type": "code",
   "execution_count": 589,
   "metadata": {},
   "outputs": [],
   "source": [
    "o2=np.copy(output)\n",
    "\n",
    "for i in range(0,200):\n",
    "    for j in range(30000,32600):\n",
    "        o2[i,j]=255\n",
    "        \n",
    "\n",
    "        \n",
    "img = Image.fromarray(o2)\n",
    "\n",
    "img.save(\"/g/data1a/ge3/yuhang/test.png\",\"PNG\")        "
   ]
  },
  {
   "cell_type": "code",
   "execution_count": 578,
   "metadata": {},
   "outputs": [
    {
     "data": {
      "text/plain": [
       "1293"
      ]
     },
     "execution_count": 578,
     "metadata": {},
     "output_type": "execute_result"
    }
   ],
   "source": [
    "width"
   ]
  },
  {
   "cell_type": "code",
   "execution_count": 378,
   "metadata": {
    "scrolled": true
   },
   "outputs": [
    {
     "ename": "SyntaxError",
     "evalue": "invalid syntax (<ipython-input-378-e16773a76b00>, line 6)",
     "output_type": "error",
     "traceback": [
      "\u001b[0;36m  File \u001b[0;32m\"<ipython-input-378-e16773a76b00>\"\u001b[0;36m, line \u001b[0;32m6\u001b[0m\n\u001b[0;31m    if output[j,i]=0:\u001b[0m\n\u001b[0m                  ^\u001b[0m\n\u001b[0;31mSyntaxError\u001b[0m\u001b[0;31m:\u001b[0m invalid syntax\n"
     ]
    }
   ],
   "source": [
    "\n",
    "    \n",
    "for i in height:\n",
    "    current=0\n",
    "    for j in width:\n",
    "        if output[j,i]=0:\n",
    "            output[j,i]=current\n",
    "        else:\n",
    "            current=output[j,i]\n",
    "    \n",
    "#import scipy.misc as smp\n",
    "from PIL import Image\n",
    "import scipy.ndimage as ndimage\n",
    "\n",
    "#img = smp.toimage(output)\n",
    "\n",
    "#img = ndimage.maximum_filter(output, size=8)\n",
    "\n",
    "img = Image.fromarray(img)\n",
    "\n",
    "img.save(\"/g/data1a/ge3/yuhang/prediction.png\",\"PNG\")"
   ]
  },
  {
   "cell_type": "code",
   "execution_count": 456,
   "metadata": {
    "scrolled": true
   },
   "outputs": [
    {
     "data": {
      "text/plain": [
       "array([252, 252, 252, 252, 252, 252, 252, 252, 252, 252, 252, 252, 252,\n",
       "       252, 252, 252, 252, 252, 252, 252, 252, 252, 252, 252, 252, 252,\n",
       "       252, 224, 224, 224, 224, 224, 224, 224, 224, 224, 224, 224, 224,\n",
       "       224, 224, 224, 224, 224, 224, 224, 224, 224, 224, 224, 224, 224,\n",
       "       224, 224, 224, 224, 224, 224, 224, 224, 224, 224, 224, 224, 224,\n",
       "       224, 224, 224, 224, 224, 224, 224, 224, 224, 224, 224, 224, 224,\n",
       "       224, 224, 224, 224, 224, 224, 224, 224, 224, 224, 224, 224, 224,\n",
       "       224, 224, 224, 224, 224, 224, 224, 224, 224, 224, 224, 224, 224,\n",
       "       224, 224, 224, 224, 224, 224, 224, 224, 224, 224, 224, 224, 224,\n",
       "       224, 224, 224, 224, 224, 224, 224, 224, 224, 224, 224, 224, 224,\n",
       "       224, 224, 224, 224, 224, 224, 224, 224, 224, 224, 224, 224, 224,\n",
       "       224, 224, 224, 224, 224, 224, 224, 224, 224, 224, 224, 224, 224,\n",
       "       224, 224, 224, 224, 224, 224, 224, 224, 224, 224, 224, 224, 224,\n",
       "       224, 224, 224, 224, 224, 224, 224, 224, 224, 224, 224, 224, 224,\n",
       "       224, 224, 224, 224, 224, 224, 224, 224, 224, 224, 224, 224, 224,\n",
       "       224, 224, 224, 224, 224, 224, 224, 224, 224, 224, 224, 224, 224,\n",
       "       224, 224, 224, 224, 224, 224, 224, 224, 224, 224, 224, 224, 224,\n",
       "       224, 224, 224, 224, 224, 224, 224, 224, 224, 224, 224, 224, 224,\n",
       "       224, 224, 224, 224, 224, 224, 224, 224, 224, 224, 224, 224, 224,\n",
       "       224, 224, 224, 224, 224, 224, 224, 224, 224, 224, 224, 224, 224,\n",
       "       224, 224, 224, 224, 224, 224, 224, 224, 224, 224, 224, 224, 224,\n",
       "       224, 224, 224, 224, 224, 224, 224, 224, 224, 224, 224, 224, 224,\n",
       "       224, 224, 224, 224, 224, 224, 224, 224, 224, 224, 224, 224, 224,\n",
       "       224, 224, 224, 224, 224, 224, 224, 224, 224, 224, 224, 224, 224,\n",
       "       224, 224, 224, 224, 224, 224, 224, 224, 224, 224, 224, 224, 224,\n",
       "       224, 224, 224, 224, 224, 224, 224, 224, 224, 224, 224, 224, 224,\n",
       "       224, 224, 224, 224, 224, 224, 224, 224, 224, 224, 224, 224, 224,\n",
       "       224, 224, 224, 224, 224, 224, 224, 224, 224, 224, 224, 224, 224,\n",
       "       224, 224, 224, 224, 224, 224, 224, 224, 224, 224, 224, 224, 224,\n",
       "       224, 224, 224, 224, 224, 224, 224, 224, 224, 224, 224, 224, 224,\n",
       "       224, 224, 224, 224, 224, 224, 224, 224, 224, 224, 224, 224, 224,\n",
       "       224, 224, 224, 224, 224, 224, 224, 224, 224, 224, 224, 224, 224,\n",
       "       224, 224, 224, 224, 224, 224, 224, 224, 224, 224, 224, 224, 224,\n",
       "       224, 224, 224, 224, 224, 224, 224, 224, 224, 224, 224, 224, 224,\n",
       "       224, 224, 224, 224, 224, 224, 224, 224, 224, 224, 224, 224, 224,\n",
       "       224, 224, 224, 224, 224, 224, 224, 224, 224, 224, 224, 224, 224,\n",
       "       224, 224, 224, 224, 224, 224, 224, 224, 224, 224, 224, 224, 224,\n",
       "       224, 224, 224], dtype=uint8)"
      ]
     },
     "execution_count": 456,
     "metadata": {},
     "output_type": "execute_result"
    }
   ],
   "source": [
    "output[800,32516:33000]"
   ]
  },
  {
   "cell_type": "code",
   "execution_count": 486,
   "metadata": {},
   "outputs": [
    {
     "data": {
      "text/plain": [
       "array([196, 196, 196, 196, 196, 196, 196, 196, 196, 196, 196, 196, 196,\n",
       "       196, 196, 196, 196, 196, 196, 196, 196, 196, 196, 196, 196, 196,\n",
       "       196, 196, 196, 196, 196, 196, 196, 196, 196, 196, 196, 196, 196,\n",
       "       196, 196, 196, 196, 196, 196, 196, 196, 196, 196, 196, 196, 196,\n",
       "       196, 196, 196, 196, 196, 196, 196, 196, 196, 196, 196, 196, 196,\n",
       "       196, 196, 196, 196, 196, 196, 196, 196, 196, 196, 196, 196, 196,\n",
       "       196, 196, 196, 196, 196, 196, 196, 196, 196, 196, 196, 196, 196,\n",
       "       196, 196, 196, 196, 196, 196, 196, 196, 196, 196, 196, 196, 196,\n",
       "       196, 196, 196, 196, 196, 196, 196, 196, 196, 196, 196, 196, 196,\n",
       "       196, 196, 196, 196, 196, 196, 196, 196, 196, 196, 196, 196, 196,\n",
       "       196, 196, 196, 196,   0,   0,   0,   0,   0,   0,   0,   0,   0,\n",
       "         0,   0,   0,   0,   0,   0,   0,   0,   0,   0,   0,   0,   0,\n",
       "         0,   0,   0,   0,   0,   0,   0,   0,   0,   0,   0,   0,   0,\n",
       "         0,   0,   0,   0,   0,   0,   0,   0,   0,   0,   0,   0,   0,\n",
       "         0,   0,   0,   0,   0,   0,   0,   0,   0,   0,   0,   0,   0,\n",
       "         0,   0,   0,   0,   0,   0,   0,   0,   0,   0,   0,   0,   0,\n",
       "         0,   0,   0,   0,   0,   0,   0,   0,   0,   0,   0,   0,   0,\n",
       "         0,   0,   0,   0,   0,   0,   0,   0,   0,   0,   0,   0,   0,\n",
       "         0,   0,   0,   0,   0,   0,   0,   0,   0,   0,   0,   0,   0,\n",
       "         0,   0,   0,   0,   0,   0,   0,   0,   0,   0,   0,   0,   0,\n",
       "         0,   0,   0,   0,   0,   0,   0,   0,   0,   0,   0,   0,   0,\n",
       "         0,   0,   0,   0,   0,   0,   0,   0,   0,   0,   0,   0,   0,\n",
       "         0,   0,   0,   0,   0,   0,   0,   0,   0,   0,   0,   0,   0,\n",
       "         0,   0,   0,   0,   0,   0,   0,   0,   0,   0,   0,   0,   0,\n",
       "         0,   0,   0,   0,   0,   0,   0,   0,   0,   0,   0,   0,   0,\n",
       "         0,   0,   0,   0,   0,   0,   0,   0,   0,   0,   0,   0,   0,\n",
       "         0,   0,   0,   0,   0,   0,   0,   0,   0,   0,   0,   0,   0,\n",
       "         0,   0,   0,   0,   0,   0,   0,   0,   0,   0,   0,   0,   0,\n",
       "         0,   0,   0,   0,   0,   0,   0,   0,   0,   0,   0,   0,   0,\n",
       "         0,   0,   0,   0,   0,   0,   0,   0,   0,   0,   0,   0,   0],\n",
       "      dtype=uint8)"
      ]
     },
     "execution_count": 486,
     "metadata": {},
     "output_type": "execute_result"
    }
   ],
   "source": [
    "output[556,29126:29516]"
   ]
  },
  {
   "cell_type": "code",
   "execution_count": 525,
   "metadata": {},
   "outputs": [
    {
     "data": {
      "text/plain": [
       "array([  0, 196, 196, 196, 196, 196, 196, 196, 196, 196, 196, 196, 196,\n",
       "       196, 196, 196, 196, 196, 196, 196, 196, 196, 196, 196, 196, 196,\n",
       "       196, 196, 196, 196, 196, 196, 196, 196, 196, 196, 196, 196,   0,\n",
       "         0,   0,   0,   0,   0,   0,   0,   0,   0,   0,   0,   0,   0,\n",
       "         0,   0,   0,   0,   0,   0,   0,   0,   0,   0,   0,   0,   0,\n",
       "         0,   0,   0,   0,   0,   0,   0,   0,   0,   0,   0,   0,   0,\n",
       "         0,   0,   0,   0,   0,   0,   0,   0,   0,   0,   0,   0,   0,\n",
       "         0,   0,   0,   0,   0,   0,   0,   0,   0,   0,   0,   0,   0,\n",
       "         0,   0,   0,   0,   0,   0,   0,   0,   0,   0,   0,   0,   0,\n",
       "         0,   0,   0,   0,   0,   0,   0,   0,   0,   0,   0,   0,   0,\n",
       "         0,   0,   0,   0,   0,   0,   0], dtype=uint8)"
      ]
     },
     "execution_count": 525,
     "metadata": {},
     "output_type": "execute_result"
    }
   ],
   "source": [
    "output[600,33663:33800]"
   ]
  },
  {
   "cell_type": "code",
   "execution_count": 518,
   "metadata": {},
   "outputs": [
    {
     "data": {
      "text/plain": [
       "array([0, 0, 0, 0, 0, 0, 0, 0, 0, 0, 0, 0, 0, 0, 0, 0, 0, 0, 0, 0, 0, 0,\n",
       "       0, 0, 0, 0, 0, 0, 0, 0, 0, 0, 0, 0, 0, 0, 0, 0, 0, 0, 0, 0, 0, 0,\n",
       "       0, 0, 0, 0, 0, 0, 0, 0, 0, 0, 0, 0, 0, 0, 0, 0, 0, 0, 0, 0, 0, 0,\n",
       "       0, 0, 0, 0, 0, 0, 0, 0, 0, 0, 0, 0, 0, 0, 0, 0, 0, 0, 0, 0, 0, 0,\n",
       "       0, 0, 0, 0, 0, 0, 0, 0, 0, 0, 0, 0, 0, 0, 0, 0, 0, 0, 0, 0, 0, 0,\n",
       "       0, 0, 0, 0, 0, 0, 0, 0, 0, 0, 0, 0, 0, 0, 0, 0, 0, 0, 0, 0, 0, 0,\n",
       "       0, 0, 0, 0, 0, 0, 0, 0, 0, 0, 0, 0, 0, 0, 0, 0, 0, 0, 0, 0, 0, 0,\n",
       "       0, 0, 0, 0, 0, 0, 0, 0, 0, 0, 0, 0, 0, 0, 0, 0, 0, 0, 0, 0, 0, 0,\n",
       "       0, 0, 0, 0, 0, 0, 0, 0, 0, 0, 0, 0, 0, 0, 0, 0, 0, 0, 0, 0, 0, 0,\n",
       "       0, 0], dtype=uint8)"
      ]
     },
     "execution_count": 518,
     "metadata": {},
     "output_type": "execute_result"
    }
   ],
   "source": [
    "output[599,33600:33800]"
   ]
  },
  {
   "cell_type": "code",
   "execution_count": 601,
   "metadata": {},
   "outputs": [
    {
     "data": {
      "text/plain": [
       "array([[ 3.4793180e+05,  7.3396325e+06,  5.8200000e+02,  4.0000000e+00],\n",
       "       [ 3.4793180e+05,  7.3396325e+06,  5.7700000e+02,  4.0000000e+00],\n",
       "       [ 3.4793180e+05,  7.3396325e+06,  5.7300000e+02,  4.0000000e+00],\n",
       "       [ 3.4793180e+05,  7.3396325e+06,  5.6800000e+02,  4.0000000e+00],\n",
       "       [ 3.4793180e+05,  7.3396325e+06,  5.6200000e+02,  4.0000000e+00],\n",
       "       [ 3.4793180e+05,  7.3396325e+06,  5.5600000e+02,  8.0000000e+00],\n",
       "       [ 3.4793180e+05,  7.3396325e+06,  5.4900000e+02,  8.0000000e+00],\n",
       "       [ 3.4793180e+05,  7.3396325e+06,  5.4200000e+02,  8.0000000e+00],\n",
       "       [ 3.4793180e+05,  7.3396325e+06,  5.3400000e+02,  8.0000000e+00],\n",
       "       [ 3.4793180e+05,  7.3396325e+06,  5.2500000e+02,  8.0000000e+00],\n",
       "       [ 3.4793180e+05,  7.3396325e+06,  5.1500000e+02,  8.0000000e+00],\n",
       "       [ 3.4793180e+05,  7.3396325e+06,  5.0400000e+02,  8.0000000e+00],\n",
       "       [ 3.4793180e+05,  7.3396325e+06,  4.9200000e+02,  8.0000000e+00],\n",
       "       [ 3.4793180e+05,  7.3396325e+06,  4.7900000e+02,  8.0000000e+00],\n",
       "       [ 3.4793180e+05,  7.3396325e+06,  4.6400000e+02,  8.0000000e+00],\n",
       "       [ 3.4793180e+05,  7.3396325e+06,  4.4800000e+02,  8.0000000e+00],\n",
       "       [ 3.4793180e+05,  7.3396325e+06,  4.3100000e+02,  8.0000000e+00],\n",
       "       [ 3.4793180e+05,  7.3396325e+06,  4.1100000e+02,  8.0000000e+00],\n",
       "       [ 3.4793180e+05,  7.3396325e+06,  3.9000000e+02,  8.0000000e+00],\n",
       "       [ 3.4793180e+05,  7.3396325e+06,  3.6700000e+02,  8.0000000e+00],\n",
       "       [ 3.4793180e+05,  7.3396325e+06,  3.4100000e+02,  8.0000000e+00],\n",
       "       [ 3.4793180e+05,  7.3396325e+06,  3.1300000e+02,  8.0000000e+00],\n",
       "       [ 3.4793180e+05,  7.3396325e+06,  2.8200000e+02,  9.0000000e+00],\n",
       "       [ 3.4793180e+05,  7.3396325e+06,  2.4800000e+02,  9.0000000e+00],\n",
       "       [ 3.4793180e+05,  7.3396325e+06,  2.1000000e+02,  9.0000000e+00],\n",
       "       [ 3.4793180e+05,  7.3396325e+06,  1.6900000e+02,  9.0000000e+00],\n",
       "       [ 3.4793180e+05,  7.3396325e+06,  1.2300000e+02,  9.0000000e+00],\n",
       "       [ 3.4793180e+05,  7.3396325e+06,  7.3000000e+01,  9.0000000e+00],\n",
       "       [ 3.4793180e+05,  7.3396325e+06,  1.8000000e+01,  9.0000000e+00],\n",
       "       [ 3.4793180e+05,  7.3396325e+06, -4.0000000e+01,  9.0000000e+00]])"
      ]
     },
     "execution_count": 601,
     "metadata": {},
     "output_type": "execute_result"
    }
   ],
   "source": [
    "lines_result[0:30]"
   ]
  },
  {
   "cell_type": "code",
   "execution_count": 600,
   "metadata": {},
   "outputs": [
    {
     "data": {
      "text/plain": [
       "array([[3.5034330e+05, 7.3426745e+06, 5.8800000e+02, 8.0000000e+00],\n",
       "       [3.5034330e+05, 7.3426745e+06, 5.7700000e+02, 8.0000000e+00],\n",
       "       [3.5034330e+05, 7.3426745e+06, 5.6600000e+02, 8.0000000e+00],\n",
       "       [3.5034330e+05, 7.3426745e+06, 5.5200000e+02, 8.0000000e+00],\n",
       "       [3.5034330e+05, 7.3426745e+06, 5.3800000e+02, 8.0000000e+00],\n",
       "       [3.5034330e+05, 7.3426745e+06, 5.2200000e+02, 8.0000000e+00],\n",
       "       [3.5034330e+05, 7.3426745e+06, 5.0400000e+02, 8.0000000e+00],\n",
       "       [3.5034330e+05, 7.3426745e+06, 4.8500000e+02, 8.0000000e+00],\n",
       "       [3.5034330e+05, 7.3426745e+06, 4.6400000e+02, 8.0000000e+00],\n",
       "       [3.5034330e+05, 7.3426745e+06, 4.4000000e+02, 8.0000000e+00],\n",
       "       [3.5034330e+05, 7.3426745e+06, 4.1500000e+02, 8.0000000e+00],\n",
       "       [3.5034330e+05, 7.3426745e+06, 3.8700000e+02, 8.0000000e+00],\n",
       "       [3.5034330e+05, 7.3426745e+06, 3.5500000e+02, 8.0000000e+00],\n",
       "       [3.5034330e+05, 7.3426745e+06, 3.2100000e+02, 8.0000000e+00],\n",
       "       [3.5034330e+05, 7.3426745e+06, 2.8400000e+02, 8.0000000e+00],\n",
       "       [3.5034330e+05, 7.3426745e+06, 2.4200000e+02, 8.0000000e+00],\n",
       "       [3.5034330e+05, 7.3426745e+06, 1.9700000e+02, 8.0000000e+00],\n",
       "       [3.5034330e+05, 7.3426745e+06, 1.4700000e+02, 8.0000000e+00],\n",
       "       [3.5034330e+05, 7.3426745e+06, 9.2000000e+01, 8.0000000e+00],\n",
       "       [3.5034330e+05, 7.3426745e+06, 3.4000000e+01, 8.0000000e+00],\n",
       "       [3.5035030e+05, 7.3426846e+06, 6.5500000e+02, 8.0000000e+00],\n",
       "       [3.5035030e+05, 7.3426846e+06, 6.5100000e+02, 8.0000000e+00],\n",
       "       [3.5035030e+05, 7.3426846e+06, 6.4600000e+02, 8.0000000e+00],\n",
       "       [3.5035030e+05, 7.3426846e+06, 6.4100000e+02, 8.0000000e+00],\n",
       "       [3.5035030e+05, 7.3426846e+06, 6.3500000e+02, 8.0000000e+00],\n",
       "       [3.5035030e+05, 7.3426846e+06, 6.2900000e+02, 8.0000000e+00],\n",
       "       [3.5035030e+05, 7.3426846e+06, 6.2200000e+02, 8.0000000e+00],\n",
       "       [3.5035030e+05, 7.3426846e+06, 6.1500000e+02, 8.0000000e+00],\n",
       "       [3.5035030e+05, 7.3426846e+06, 6.0700000e+02, 8.0000000e+00],\n",
       "       [3.5035030e+05, 7.3426846e+06, 5.9800000e+02, 8.0000000e+00]])"
      ]
     },
     "execution_count": 600,
     "metadata": {},
     "output_type": "execute_result"
    }
   ],
   "source": [
    "lines_result[10030:10060]"
   ]
  },
  {
   "cell_type": "code",
   "execution_count": 594,
   "metadata": {},
   "outputs": [
    {
     "ename": "KeyError",
     "evalue": "-39.76",
     "output_type": "error",
     "traceback": [
      "\u001b[0;31m---------------------------------------------------------------------------\u001b[0m",
      "\u001b[0;31mKeyError\u001b[0m                                  Traceback (most recent call last)",
      "\u001b[0;32m<ipython-input-594-ec4e9c7d27cf>\u001b[0m in \u001b[0;36m<module>\u001b[0;34m()\u001b[0m\n\u001b[0;32m----> 1\u001b[0;31m \u001b[0my_dic\u001b[0m\u001b[0;34m[\u001b[0m\u001b[0;34m-\u001b[0m\u001b[0;36m3.9760000e+01\u001b[0m\u001b[0;34m]\u001b[0m\u001b[0;34m\u001b[0m\u001b[0m\n\u001b[0m",
      "\u001b[0;31mKeyError\u001b[0m: -39.76"
     ]
    }
   ],
   "source": [
    "y_dic[lines_result[29]]"
   ]
  },
  {
   "cell_type": "code",
   "execution_count": 603,
   "metadata": {
    "scrolled": true
   },
   "outputs": [
    {
     "ename": "TypeError",
     "evalue": "'builtin_function_or_method' object is not iterable",
     "output_type": "error",
     "traceback": [
      "\u001b[0;31m---------------------------------------------------------------------------\u001b[0m",
      "\u001b[0;31mTypeError\u001b[0m                                 Traceback (most recent call last)",
      "\u001b[0;32m<ipython-input-603-8e9db8375680>\u001b[0m in \u001b[0;36m<module>\u001b[0;34m()\u001b[0m\n\u001b[0;32m----> 1\u001b[0;31m \u001b[0;32mfor\u001b[0m \u001b[0mkey\u001b[0m\u001b[0;34m,\u001b[0m \u001b[0mvalue\u001b[0m \u001b[0;32min\u001b[0m \u001b[0mx_dic\u001b[0m\u001b[0;34m.\u001b[0m\u001b[0miteritems\u001b[0m\u001b[0;34m:\u001b[0m\u001b[0;34m\u001b[0m\u001b[0m\n\u001b[0m\u001b[1;32m      2\u001b[0m     \u001b[0;32mif\u001b[0m \u001b[0mvalue\u001b[0m\u001b[0;34m==\u001b[0m\u001b[0;36m2517\u001b[0m\u001b[0;34m:\u001b[0m\u001b[0;34m\u001b[0m\u001b[0m\n\u001b[1;32m      3\u001b[0m         \u001b[0;32mprint\u001b[0m \u001b[0mkey\u001b[0m\u001b[0;34m\u001b[0m\u001b[0m\n",
      "\u001b[0;31mTypeError\u001b[0m: 'builtin_function_or_method' object is not iterable"
     ]
    }
   ],
   "source": [
    "for key, value in x_dic.iteritems:\n",
    "    if value==2517:\n",
    "        print key"
   ]
  },
  {
   "cell_type": "code",
   "execution_count": 591,
   "metadata": {},
   "outputs": [
    {
     "name": "stdout",
     "output_type": "stream",
     "text": [
      "300000\n",
      "300001\n",
      "300002\n",
      "300003\n",
      "300004\n",
      "300005\n",
      "300006\n",
      "300007\n",
      "300008\n",
      "300009\n",
      "300010\n",
      "300011\n",
      "300012\n",
      "300013\n",
      "300014\n",
      "300015\n",
      "300016\n",
      "300017\n",
      "300018\n",
      "300019\n",
      "300020\n",
      "300021\n",
      "300022\n",
      "300023\n",
      "300024\n",
      "300025\n",
      "300026\n",
      "300027\n",
      "300028\n",
      "300029\n"
     ]
    }
   ],
   "source": [
    "for i in range(len(newx)):\n",
    "    if newx[i]==-132993.9898328744:\n",
    "        print i\n"
   ]
  },
  {
   "cell_type": "code",
   "execution_count": 605,
   "metadata": {},
   "outputs": [
    {
     "name": "stdout",
     "output_type": "stream",
     "text": [
      "-223517.915735603\n"
     ]
    }
   ],
   "source": [
    "for key, value in x_dic.iteritems():\n",
    "    if value==2517:\n",
    "        print key"
   ]
  },
  {
   "cell_type": "code",
   "execution_count": 606,
   "metadata": {},
   "outputs": [
    {
     "name": "stdout",
     "output_type": "stream",
     "text": [
      "75510\n",
      "75511\n",
      "75512\n",
      "75513\n",
      "75514\n",
      "75515\n",
      "75516\n",
      "75517\n",
      "75518\n",
      "75519\n",
      "75520\n",
      "75521\n",
      "75522\n",
      "75523\n",
      "75524\n",
      "75525\n",
      "75526\n",
      "75527\n",
      "75528\n",
      "75529\n",
      "75530\n",
      "75531\n",
      "75532\n",
      "75533\n",
      "75534\n",
      "75535\n",
      "75536\n",
      "75537\n",
      "75538\n",
      "75539\n"
     ]
    }
   ],
   "source": [
    "for i in range(len(newx)):\n",
    "    if newx[i]==-223517.915735603:\n",
    "        print i"
   ]
  },
  {
   "cell_type": "code",
   "execution_count": 626,
   "metadata": {},
   "outputs": [
    {
     "name": "stdout",
     "output_type": "stream",
     "text": [
      "-248879.18133036926\n"
     ]
    }
   ],
   "source": [
    "for key, value in x_dic.iteritems():\n",
    "    if value==72:\n",
    "        print key"
   ]
  },
  {
   "cell_type": "code",
   "execution_count": 627,
   "metadata": {},
   "outputs": [
    {
     "name": "stdout",
     "output_type": "stream",
     "text": [
      "2160\n",
      "2161\n",
      "2162\n",
      "2163\n",
      "2164\n",
      "2165\n",
      "2166\n",
      "2167\n",
      "2168\n",
      "2169\n",
      "2170\n",
      "2171\n",
      "2172\n",
      "2173\n",
      "2174\n",
      "2175\n",
      "2176\n",
      "2177\n",
      "2178\n",
      "2179\n",
      "2180\n",
      "2181\n",
      "2182\n",
      "2183\n",
      "2184\n",
      "2185\n",
      "2186\n",
      "2187\n",
      "2188\n",
      "2189\n"
     ]
    }
   ],
   "source": [
    "for i in range(len(newx)):\n",
    "    if newx[i]==-248879.18133036926:\n",
    "        print i"
   ]
  },
  {
   "cell_type": "code",
   "execution_count": 565,
   "metadata": {},
   "outputs": [
    {
     "data": {
      "text/plain": [
       "array([  0,   0,   0,   0,   0,   0,   0,   0,   0,   0,   0,   0,   0,\n",
       "         0,   0,   0,   0,   0,   0,   0,   0,   0,   0,   0,   0,   0,\n",
       "         0,   0,   0,   0,   0,   0,   0,   0,   0,   0,   0,   0,   0,\n",
       "         0,   0,   0,   0,   0,   0,   0,   0,   0,   0,   0,   0,   0,\n",
       "         0,   0,   0,   0,   0,   0,   0,   0,   0,   0,   0,   0,   0,\n",
       "         0,   0,   0,   0,   0,   0,   0,   0,   0,   0,   0,   0,   0,\n",
       "         0,   0,   0,   0,   0,   0,   0,   0,   0,   0,   0,   0,   0,\n",
       "         0,   0,   0,   0,   0,   0,   0,   0,   0,   0,   0,   0,   0,\n",
       "         0,   0,   0,   0,   0,   0,   0,   0,   0,   0,   0,   0,   0,\n",
       "         0,   0,   0,   0,   0,   0,   0,   0,   0,   0,   0,   0,   0,\n",
       "         0,   0,   0,   0,   0,   0,   0,   0,   0,   0,   0,   0,   0,\n",
       "         0,   0,   0,   0,   0,   0,   0,   0,   0,   0,   0,   0,   0,\n",
       "         0,   0,   0,   0,   0, 196, 196, 196, 196, 196, 196, 196, 196,\n",
       "       196, 224, 224, 224, 224, 224, 224, 224, 224, 224, 224, 224, 224,\n",
       "       224, 224, 224, 224, 224, 224, 224, 224, 224, 224, 224, 224, 224,\n",
       "       224, 224, 224, 224, 224], dtype=uint8)"
      ]
     },
     "execution_count": 565,
     "metadata": {},
     "output_type": "execute_result"
    }
   ],
   "source": [
    "output[500:700,40000]"
   ]
  },
  {
   "cell_type": "code",
   "execution_count": 610,
   "metadata": {},
   "outputs": [
    {
     "data": {
      "text/plain": [
       "array([[0.0000000e+00, 1.6280500e+05, 4.8800000e-03, 5.1900000e-03,\n",
       "        4.9400000e-03, 6.5900000e-03, 4.8800000e-03, 4.0000000e+00,\n",
       "        1.5881000e+00, 0.0000000e+00, 3.5287450e+05, 7.3657266e+06,\n",
       "        6.9524000e+02, 0.0000000e+00, 2.0000000e+00],\n",
       "       [0.0000000e+00, 1.6280500e+05, 6.9600000e-03, 6.5900000e-03,\n",
       "        7.0100000e-03, 1.1200000e-02, 6.9600000e-03, 4.4000000e+00,\n",
       "        1.5722200e+00, 0.0000000e+00, 3.5287450e+05, 7.3657266e+06,\n",
       "        6.9104000e+02, 0.0000000e+00, 2.0000000e+00],\n",
       "       [0.0000000e+00, 1.6280500e+05, 8.2100000e-03, 7.9200000e-03,\n",
       "        8.2000000e-03, 1.7600000e-02, 8.2100000e-03, 4.8400000e+00,\n",
       "        1.5565000e+00, 0.0000000e+00, 3.5287450e+05, 7.3657266e+06,\n",
       "        6.8642000e+02, 0.0000000e+00, 2.0000000e+00],\n",
       "       [0.0000000e+00, 1.6280500e+05, 8.3500000e-03, 9.1400000e-03,\n",
       "        8.3300000e-03, 2.3300000e-02, 8.3500000e-03, 5.3200000e+00,\n",
       "        1.5409300e+00, 0.0000000e+00, 3.5287450e+05, 7.3657266e+06,\n",
       "        6.8134000e+02, 0.0000000e+00, 2.0000000e+00],\n",
       "       [0.0000000e+00, 1.6280500e+05, 8.7900000e-03, 1.0400000e-02,\n",
       "        8.7800000e-03, 2.7300000e-02, 8.7900000e-03, 5.8600000e+00,\n",
       "        1.5255200e+00, 0.0000000e+00, 3.5287450e+05, 7.3657266e+06,\n",
       "        6.7575000e+02, 0.0000000e+00, 2.0000000e+00],\n",
       "       [0.0000000e+00, 1.6280500e+05, 1.0500000e-02, 1.2000000e-02,\n",
       "        1.0500000e-02, 2.8900000e-02, 1.0500000e-02, 6.4400000e+00,\n",
       "        1.5102700e+00, 0.0000000e+00, 3.5287450e+05, 7.3657266e+06,\n",
       "        6.6960000e+02, 0.0000000e+00, 2.0000000e+00],\n",
       "       [0.0000000e+00, 1.6280500e+05, 1.4200000e-02, 1.3800000e-02,\n",
       "        1.4100000e-02, 2.9900000e-02, 1.4200000e-02, 7.0900000e+00,\n",
       "        1.4951600e+00, 0.0000000e+00, 3.5287450e+05, 7.3657266e+06,\n",
       "        6.6283500e+02, 0.0000000e+00, 2.0000000e+00],\n",
       "       [0.0000000e+00, 1.6280500e+05, 1.9700000e-02, 1.5600000e-02,\n",
       "        1.9600000e-02, 3.1400000e-02, 1.9700000e-02, 7.7900000e+00,\n",
       "        1.4802100e+00, 0.0000000e+00, 3.5287450e+05, 7.3657266e+06,\n",
       "        6.5539500e+02, 0.0000000e+00, 2.0000000e+00],\n",
       "       [0.0000000e+00, 1.6280500e+05, 2.3400000e-02, 1.7000000e-02,\n",
       "        2.3300000e-02, 3.4200000e-02, 2.3400000e-02, 8.5700000e+00,\n",
       "        1.4654100e+00, 0.0000000e+00, 3.5287450e+05, 7.3657266e+06,\n",
       "        6.4721500e+02, 0.0000000e+00, 2.0000000e+00],\n",
       "       [0.0000000e+00, 1.6280500e+05, 2.0700000e-02, 1.7900000e-02,\n",
       "        2.0800000e-02, 3.9400000e-02, 2.0700000e-02, 9.4300000e+00,\n",
       "        1.4507600e+00, 0.0000000e+00, 3.5287450e+05, 7.3657266e+06,\n",
       "        6.3821500e+02, 0.0000000e+00, 2.0000000e+00],\n",
       "       [0.0000000e+00, 1.6280500e+05, 1.4900000e-02, 1.8400000e-02,\n",
       "        1.5200000e-02, 4.7500000e-02, 1.4900000e-02, 1.0370000e+01,\n",
       "        1.4362500e+00, 0.0000000e+00, 3.5287450e+05, 7.3657266e+06,\n",
       "        6.2831500e+02, 0.0000000e+00, 2.0000000e+00],\n",
       "       [0.0000000e+00, 1.6280500e+05, 1.1300000e-02, 1.9100000e-02,\n",
       "        1.1600000e-02, 5.6200000e-02, 1.1300000e-02, 1.1410000e+01,\n",
       "        1.4218900e+00, 0.0000000e+00, 3.5287450e+05, 7.3657266e+06,\n",
       "        6.1742500e+02, 0.0000000e+00, 2.0000000e+00],\n",
       "       [0.0000000e+00, 1.6280500e+05, 1.1100000e-02, 2.0300000e-02,\n",
       "        1.1300000e-02, 5.9100000e-02, 1.1100000e-02, 1.2550000e+01,\n",
       "        1.4076700e+00, 0.0000000e+00, 3.5287450e+05, 7.3657266e+06,\n",
       "        6.0544500e+02, 0.0000000e+00, 2.0000000e+00],\n",
       "       [0.0000000e+00, 1.6280500e+05, 1.5600000e-02, 2.1900000e-02,\n",
       "        1.5500000e-02, 5.3700000e-02, 1.5600000e-02, 1.3810000e+01,\n",
       "        1.3935900e+00, 0.0000000e+00, 3.5287450e+05, 7.3657266e+06,\n",
       "        5.9226500e+02, 0.0000000e+00, 2.0000000e+00],\n",
       "       [0.0000000e+00, 1.6280500e+05, 2.7500000e-02, 2.3500000e-02,\n",
       "        2.6700000e-02, 4.5000000e-02, 2.7500000e-02, 1.5190000e+01,\n",
       "        1.3796500e+00, 0.0000000e+00, 3.5287450e+05, 7.3657266e+06,\n",
       "        5.7776500e+02, 0.0000000e+00, 2.0000000e+00],\n",
       "       [0.0000000e+00, 1.6280500e+05, 4.1500000e-02, 2.4300000e-02,\n",
       "        4.0700000e-02, 3.7900000e-02, 4.1600000e-02, 1.6710000e+01,\n",
       "        1.3658600e+00, 0.0000000e+00, 3.5287450e+05, 7.3657266e+06,\n",
       "        5.6181500e+02, 0.0000000e+00, 2.0000000e+00],\n",
       "       [0.0000000e+00, 1.6280500e+05, 3.7600000e-02, 2.3700000e-02,\n",
       "        3.8500000e-02, 3.4600000e-02, 3.7600000e-02, 1.8380000e+01,\n",
       "        1.3522000e+00, 0.0000000e+00, 3.5287450e+05, 7.3657266e+06,\n",
       "        5.4427000e+02, 0.0000000e+00, 2.0000000e+00],\n",
       "       [0.0000000e+00, 1.6280500e+05, 2.2200000e-02, 2.1800000e-02,\n",
       "        2.3600000e-02, 3.5700000e-02, 2.2200000e-02, 2.0220000e+01,\n",
       "        1.3386800e+00, 0.0000000e+00, 3.5287450e+05, 7.3657266e+06,\n",
       "        5.2497000e+02, 0.0000000e+00, 2.0000000e+00],\n",
       "       [0.0000000e+00, 1.6280500e+05, 1.1800000e-02, 1.9200000e-02,\n",
       "        1.2400000e-02, 4.0900000e-02, 1.1800000e-02, 2.2240000e+01,\n",
       "        1.3252900e+00, 0.0000000e+00, 3.5287450e+05, 7.3657266e+06,\n",
       "        5.0374000e+02, 0.0000000e+00, 2.0000000e+00],\n",
       "       [0.0000000e+00, 1.6280500e+05, 7.2600000e-03, 1.6300000e-02,\n",
       "        7.0900000e-03, 4.8900000e-02, 7.2600000e-03, 2.4460000e+01,\n",
       "        1.3120400e+00, 0.0000000e+00, 3.5287450e+05, 7.3657266e+06,\n",
       "        4.8039000e+02, 0.0000000e+00, 2.0000000e+00],\n",
       "       [0.0000000e+00, 1.6280500e+05, 5.7600000e-03, 1.3700000e-02,\n",
       "        5.0600000e-03, 5.4900000e-02, 5.7600000e-03, 2.6910000e+01,\n",
       "        1.2989200e+00, 0.0000000e+00, 3.5287450e+05, 7.3657266e+06,\n",
       "        4.5470500e+02, 0.0000000e+00, 2.0000000e+00],\n",
       "       [0.0000000e+00, 1.6280500e+05, 5.9200000e-03, 1.1300000e-02,\n",
       "        4.8300000e-03, 5.3400000e-02, 5.9200000e-03, 2.9600000e+01,\n",
       "        1.2859300e+00, 0.0000000e+00, 3.5287450e+05, 7.3657266e+06,\n",
       "        4.2645000e+02, 0.0000000e+00, 2.0000000e+00],\n",
       "       [0.0000000e+00, 1.6280500e+05, 7.2800000e-03, 9.1800000e-03,\n",
       "        5.9700000e-03, 4.4700000e-02, 7.2800000e-03, 3.2560000e+01,\n",
       "        1.2730700e+00, 0.0000000e+00, 3.5287450e+05, 7.3657266e+06,\n",
       "        3.9537000e+02, 0.0000000e+00, 2.0000000e+00],\n",
       "       [0.0000000e+00, 1.6280500e+05, 9.4500000e-03, 7.3300000e-03,\n",
       "        8.4400000e-03, 3.5000000e-02, 9.4500000e-03, 3.5820000e+01,\n",
       "        1.2603400e+00, 0.0000000e+00, 3.5287450e+05, 7.3657266e+06,\n",
       "        3.6118000e+02, 0.0000000e+00, 2.0000000e+00],\n",
       "       [0.0000000e+00, 1.6280500e+05, 1.0700000e-02, 5.7100000e-03,\n",
       "        1.1000000e-02, 2.8700000e-02, 1.0700000e-02, 3.9400000e+01,\n",
       "        1.2477300e+00, 0.0000000e+00, 3.5287450e+05, 7.3657266e+06,\n",
       "        3.2357000e+02, 0.0000000e+00, 2.0000000e+00],\n",
       "       [0.0000000e+00, 1.6280500e+05, 9.1300000e-03, 4.2900000e-03,\n",
       "        1.0600000e-02, 2.6600000e-02, 9.1300000e-03, 4.3340000e+01,\n",
       "        1.2352600e+00, 0.0000000e+00, 3.5287450e+05, 7.3657266e+06,\n",
       "        2.8220000e+02, 0.0000000e+00, 2.0000000e+00],\n",
       "       [0.0000000e+00, 1.6280500e+05, 5.9400000e-03, 3.1000000e-03,\n",
       "        7.2000000e-03, 2.8700000e-02, 5.9300000e-03, 4.7670000e+01,\n",
       "        1.2229000e+00, 0.0000000e+00, 3.5287450e+05, 7.3657266e+06,\n",
       "        2.3669500e+02, 0.0000000e+00, 2.0000000e+00],\n",
       "       [0.0000000e+00, 1.6280500e+05, 3.3100000e-03, 2.1300000e-03,\n",
       "        3.8300000e-03, 3.5300000e-02, 3.3100000e-03, 5.2440000e+01,\n",
       "        1.2106800e+00, 0.0000000e+00, 3.5287450e+05, 7.3657266e+06,\n",
       "        1.8664000e+02, 0.0000000e+00, 2.0000000e+00],\n",
       "       [0.0000000e+00, 1.6280500e+05, 1.5700000e-03, 1.4000000e-03,\n",
       "        1.6000000e-03, 4.6800000e-02, 1.5700000e-03, 5.7680000e+01,\n",
       "        1.1985700e+00, 0.0000000e+00, 3.5287450e+05, 7.3657266e+06,\n",
       "        1.3158000e+02, 0.0000000e+00, 2.0000000e+00],\n",
       "       [0.0000000e+00, 1.6280500e+05, 5.5100000e-04, 8.8600000e-04,\n",
       "        4.8600000e-04, 6.0300000e-02, 5.5100000e-04, 5.7680000e+01,\n",
       "        1.1865800e+00, 0.0000000e+00, 3.5287450e+05, 7.3657266e+06,\n",
       "        7.3900000e+01, 0.0000000e+00, 2.0000000e+00]])"
      ]
     },
     "execution_count": 610,
     "metadata": {},
     "output_type": "execute_result"
    }
   ],
   "source": [
    "lines_test[75540:75570]"
   ]
  },
  {
   "cell_type": "code",
   "execution_count": 613,
   "metadata": {},
   "outputs": [
    {
     "data": {
      "text/plain": [
       "array([[ 0.0000000e+00,  1.6028700e+05,  8.6200000e-04,  1.9000000e-03,\n",
       "         1.1400000e-03,  1.7600000e-03,  8.6200000e-04,  4.0000000e+00,\n",
       "         3.3773100e+00,  5.6622500e-03,  3.4793180e+05,  7.3396325e+06,\n",
       "         5.8158000e+02,  0.0000000e+00,  1.0000000e+00],\n",
       "       [ 0.0000000e+00,  1.6028700e+05,  9.9600000e-04,  2.8800000e-03,\n",
       "         1.3200000e-03,  3.7600000e-03,  9.9600000e-04,  4.4000000e+00,\n",
       "         3.3435300e+00,  5.6622500e-03,  3.4793180e+05,  7.3396325e+06,\n",
       "         5.7738000e+02,  0.0000000e+00,  1.0000000e+00],\n",
       "       [ 0.0000000e+00,  1.6028700e+05,  1.3900000e-03,  4.3200000e-03,\n",
       "         1.7900000e-03,  9.7700000e-03,  1.3900000e-03,  4.8400000e+00,\n",
       "         3.3101000e+00,  5.6622500e-03,  3.4793180e+05,  7.3396325e+06,\n",
       "         5.7276000e+02,  0.0000000e+00,  1.0000000e+00],\n",
       "       [ 0.0000000e+00,  1.6028700e+05,  2.5100000e-03,  6.3700000e-03,\n",
       "         3.0100000e-03,  2.3900000e-02,  2.5100000e-03,  5.3200000e+00,\n",
       "         3.2770000e+00,  5.6622500e-03,  3.4793180e+05,  7.3396325e+06,\n",
       "         5.6768000e+02,  0.0000000e+00,  1.0000000e+00],\n",
       "       [ 0.0000000e+00,  1.6028700e+05,  5.7200000e-03,  9.0000000e-03,\n",
       "         6.2100000e-03,  3.8200000e-02,  5.7200000e-03,  5.8600000e+00,\n",
       "         3.2442300e+00,  5.6622500e-03,  3.4793180e+05,  7.3396325e+06,\n",
       "         5.6209000e+02,  0.0000000e+00,  1.0000000e+00],\n",
       "       [ 0.0000000e+00,  1.6028700e+05,  1.4300000e-02,  1.1700000e-02,\n",
       "         1.4000000e-02,  3.1500000e-02,  1.4300000e-02,  6.4400000e+00,\n",
       "         3.2117800e+00,  5.6622500e-03,  3.4793180e+05,  7.3396325e+06,\n",
       "         5.5594000e+02,  0.0000000e+00,  1.0000000e+00],\n",
       "       [ 0.0000000e+00,  1.6028700e+05,  2.8100000e-02,  1.3400000e-02,\n",
       "         2.5300000e-02,  1.6400000e-02,  2.8100000e-02,  7.0900000e+00,\n",
       "         3.1796700e+00,  5.6622500e-03,  3.4793180e+05,  7.3396325e+06,\n",
       "         5.4917500e+02,  0.0000000e+00,  1.0000000e+00],\n",
       "       [ 0.0000000e+00,  1.6028700e+05,  2.6300000e-02,  1.3200000e-02,\n",
       "         2.4100000e-02,  8.0100000e-03,  2.6300000e-02,  7.7900000e+00,\n",
       "         3.1478700e+00,  5.6622500e-03,  3.4793180e+05,  7.3396325e+06,\n",
       "         5.4173500e+02,  0.0000000e+00,  1.0000000e+00],\n",
       "       [ 0.0000000e+00,  1.6028700e+05,  1.1900000e-02,  1.1300000e-02,\n",
       "         1.2200000e-02,  4.9800000e-03,  1.1900000e-02,  8.5700000e+00,\n",
       "         3.1163900e+00,  5.6622500e-03,  3.4793180e+05,  7.3396325e+06,\n",
       "         5.3355500e+02,  0.0000000e+00,  1.0000000e+00],\n",
       "       [ 0.0000000e+00,  1.6028700e+05,  4.1900000e-03,  8.7500000e-03,\n",
       "         5.1000000e-03,  4.6000000e-03,  4.1900000e-03,  9.4300000e+00,\n",
       "         3.0852300e+00,  5.6622500e-03,  3.4793180e+05,  7.3396325e+06,\n",
       "         5.2455500e+02,  0.0000000e+00,  1.0000000e+00],\n",
       "       [ 0.0000000e+00,  1.6028700e+05,  1.6100000e-03,  6.4700000e-03,\n",
       "         2.3400000e-03,  6.3600000e-03,  1.6100000e-03,  1.0370000e+01,\n",
       "         3.0543700e+00,  5.6622500e-03,  3.4793180e+05,  7.3396325e+06,\n",
       "         5.1465500e+02,  0.0000000e+00,  1.0000000e+00],\n",
       "       [ 0.0000000e+00,  1.6028700e+05,  7.9500000e-04,  4.8300000e-03,\n",
       "         1.3300000e-03,  1.1700000e-02,  7.9500000e-04,  1.1410000e+01,\n",
       "         3.0238300e+00,  5.6622500e-03,  3.4793180e+05,  7.3396325e+06,\n",
       "         5.0376500e+02,  0.0000000e+00,  1.0000000e+00],\n",
       "       [ 0.0000000e+00,  1.6028700e+05,  5.2700000e-04,  3.8100000e-03,\n",
       "         9.5600000e-04,  2.2700000e-02,  5.2700000e-04,  1.2550000e+01,\n",
       "         2.9935900e+00,  5.6622500e-03,  3.4793180e+05,  7.3396325e+06,\n",
       "         4.9178500e+02,  0.0000000e+00,  1.0000000e+00],\n",
       "       [ 0.0000000e+00,  1.6028700e+05,  4.6500000e-04,  3.2600000e-03,\n",
       "         8.5300000e-04,  3.6200000e-02,  4.6500000e-04,  1.3810000e+01,\n",
       "         2.9636600e+00,  5.6622500e-03,  3.4793180e+05,  7.3396325e+06,\n",
       "         4.7860500e+02,  0.0000000e+00,  1.0000000e+00],\n",
       "       [ 0.0000000e+00,  1.6028700e+05,  5.3200000e-04,  3.0700000e-03,\n",
       "         9.2400000e-04,  4.1000000e-02,  5.3200000e-04,  1.5190000e+01,\n",
       "         2.9340200e+00,  5.6622500e-03,  3.4793180e+05,  7.3396325e+06,\n",
       "         4.6410500e+02,  0.0000000e+00,  1.0000000e+00],\n",
       "       [ 0.0000000e+00,  1.6028700e+05,  7.7400000e-04,  3.1600000e-03,\n",
       "         1.2100000e-03,  3.5500000e-02,  7.7400000e-04,  1.6710000e+01,\n",
       "         2.9046800e+00,  5.6622500e-03,  3.4793180e+05,  7.3396325e+06,\n",
       "         4.4815500e+02,  0.0000000e+00,  1.0000000e+00],\n",
       "       [ 0.0000000e+00,  1.6028700e+05,  1.4100000e-03,  3.5000000e-03,\n",
       "         1.9200000e-03,  2.8800000e-02,  1.4100000e-03,  1.8380000e+01,\n",
       "         2.8756300e+00,  5.6622500e-03,  3.4793180e+05,  7.3396325e+06,\n",
       "         4.3061000e+02,  0.0000000e+00,  1.0000000e+00],\n",
       "       [ 0.0000000e+00,  1.6028700e+05,  3.1200000e-03,  4.0800000e-03,\n",
       "         3.6400000e-03,  2.7000000e-02,  3.1200000e-03,  2.0220000e+01,\n",
       "         2.8468800e+00,  5.6622500e-03,  3.4793180e+05,  7.3396325e+06,\n",
       "         4.1131000e+02,  0.0000000e+00,  1.0000000e+00],\n",
       "       [ 0.0000000e+00,  1.6028700e+05,  7.3700000e-03,  4.8600000e-03,\n",
       "         7.4200000e-03,  3.2400000e-02,  7.3700000e-03,  2.2240000e+01,\n",
       "         2.8184100e+00,  5.6622500e-03,  3.4793180e+05,  7.3396325e+06,\n",
       "         3.9008000e+02,  0.0000000e+00,  1.0000000e+00],\n",
       "       [ 0.0000000e+00,  1.6028700e+05,  1.4000000e-02,  5.7200000e-03,\n",
       "         1.2500000e-02,  4.7700000e-02,  1.4000000e-02,  2.4460000e+01,\n",
       "         2.7902200e+00,  5.6622500e-03,  3.4793180e+05,  7.3396325e+06,\n",
       "         3.6673000e+02,  0.0000000e+00,  1.0000000e+00],\n",
       "       [ 0.0000000e+00,  1.6028700e+05,  1.5100000e-02,  6.5000000e-03,\n",
       "         1.2900000e-02,  7.1700000e-02,  1.5000000e-02,  2.6910000e+01,\n",
       "         2.7623200e+00,  5.6622500e-03,  3.4793180e+05,  7.3396325e+06,\n",
       "         3.4104500e+02,  0.0000000e+00,  1.0000000e+00],\n",
       "       [ 0.0000000e+00,  1.6028700e+05,  9.4500000e-03,  7.0400000e-03,\n",
       "         8.6700000e-03,  8.5500000e-02,  9.4500000e-03,  2.9600000e+01,\n",
       "         2.7347000e+00,  5.6622500e-03,  3.4793180e+05,  7.3396325e+06,\n",
       "         3.1279000e+02,  0.0000000e+00,  1.0000000e+00],\n",
       "       [ 0.0000000e+00,  1.6028700e+05,  5.0500000e-03,  7.2400000e-03,\n",
       "         5.2600000e-03,  7.1200000e-02,  5.0500000e-03,  3.2560000e+01,\n",
       "         2.7073500e+00,  5.6622500e-03,  3.4793180e+05,  7.3396325e+06,\n",
       "         2.8171000e+02,  0.0000000e+00,  1.0000000e+00],\n",
       "       [ 0.0000000e+00,  1.6028700e+05,  3.0900000e-03,  7.1300000e-03,\n",
       "         3.6700000e-03,  4.5600000e-02,  3.0900000e-03,  3.5820000e+01,\n",
       "         2.6802800e+00,  5.6622500e-03,  3.4793180e+05,  7.3396325e+06,\n",
       "         2.4752000e+02,  0.0000000e+00,  1.0000000e+00],\n",
       "       [ 0.0000000e+00,  1.6028700e+05,  2.4800000e-03,  6.8300000e-03,\n",
       "         3.2300000e-03,  2.7800000e-02,  2.4800000e-03,  3.9400000e+01,\n",
       "         2.6534800e+00,  5.6622500e-03,  3.4793180e+05,  7.3396325e+06,\n",
       "         2.0991000e+02,  0.0000000e+00,  1.0000000e+00],\n",
       "       [ 0.0000000e+00,  1.6028700e+05,  2.6200000e-03,  6.4300000e-03,\n",
       "         3.5300000e-03,  1.9900000e-02,  2.6300000e-03,  4.3340000e+01,\n",
       "         2.6269400e+00,  5.6622500e-03,  3.4793180e+05,  7.3396325e+06,\n",
       "         1.6854000e+02,  0.0000000e+00,  1.0000000e+00],\n",
       "       [ 0.0000000e+00,  1.6028700e+05,  3.3800000e-03,  6.0400000e-03,\n",
       "         4.4000000e-03,  1.9500000e-02,  3.3800000e-03,  4.7670000e+01,\n",
       "         2.6006700e+00,  5.6622500e-03,  3.4793180e+05,  7.3396325e+06,\n",
       "         1.2303500e+02,  0.0000000e+00,  1.0000000e+00],\n",
       "       [ 0.0000000e+00,  1.6028700e+05,  4.6500000e-03,  5.7400000e-03,\n",
       "         5.5200000e-03,  2.8000000e-02,  4.6500000e-03,  5.2440000e+01,\n",
       "         2.5746600e+00,  5.6622500e-03,  3.4793180e+05,  7.3396325e+06,\n",
       "         7.2980000e+01,  0.0000000e+00,  1.0000000e+00],\n",
       "       [ 0.0000000e+00,  1.6028700e+05,  5.9700000e-03,  5.6300000e-03,\n",
       "         6.2500000e-03,  5.7900000e-02,  5.9700000e-03,  5.7680000e+01,\n",
       "         2.5489200e+00,  5.6622500e-03,  3.4793180e+05,  7.3396325e+06,\n",
       "         1.7920000e+01,  0.0000000e+00,  1.0000000e+00],\n",
       "       [ 0.0000000e+00,  1.6028700e+05,  7.7800000e-03,  5.7800000e-03,\n",
       "         7.2000000e-03,  1.4900000e-01,  7.7800000e-03,  5.7680000e+01,\n",
       "         2.5234300e+00,  5.6622500e-03,  3.4793180e+05,  7.3396325e+06,\n",
       "        -3.9760000e+01,  0.0000000e+00,  1.0000000e+00]])"
      ]
     },
     "execution_count": 613,
     "metadata": {},
     "output_type": "execute_result"
    }
   ],
   "source": [
    "lines_test[0:30]"
   ]
  },
  {
   "cell_type": "code",
   "execution_count": 631,
   "metadata": {},
   "outputs": [
    {
     "data": {
      "text/plain": [
       "array([0.0000000e+00, 1.6035700e+05, 5.7800000e-02, 4.1100000e-02,\n",
       "       5.6300000e-02, 6.0800000e-02, 5.7800000e-02, 4.0000000e+00,\n",
       "       2.5137800e+00, 1.4959400e-04, 3.4857410e+05, 7.3402499e+06,\n",
       "       5.9558000e+02, 0.0000000e+00, 1.0000000e+00])"
      ]
     },
     "execution_count": 631,
     "metadata": {},
     "output_type": "execute_result"
    }
   ],
   "source": [
    "lines_test[2100]"
   ]
  },
  {
   "cell_type": "code",
   "execution_count": 630,
   "metadata": {},
   "outputs": [
    {
     "data": {
      "text/plain": [
       "array([0.0000000e+00, 1.6035800e+05, 5.8400000e-02, 4.2400000e-02,\n",
       "       5.6900000e-02, 6.1300000e-02, 5.8400000e-02, 4.0000000e+00,\n",
       "       2.4898200e+00, 1.5874800e-04, 3.4858150e+05, 7.3402591e+06,\n",
       "       5.9580000e+02, 0.0000000e+00, 1.0000000e+00])"
      ]
     },
     "execution_count": 630,
     "metadata": {},
     "output_type": "execute_result"
    }
   ],
   "source": [
    "lines_test[2130]"
   ]
  },
  {
   "cell_type": "code",
   "execution_count": 629,
   "metadata": {},
   "outputs": [
    {
     "data": {
      "text/plain": [
       "array([0.0000000e+00, 1.6035900e+05, 5.8000000e-02, 4.3100000e-02,\n",
       "       5.6500000e-02, 6.1300000e-02, 5.8000000e-02, 4.0000000e+00,\n",
       "       2.3883700e+00, 1.1857600e-04, 3.4858900e+05, 7.3402684e+06,\n",
       "       5.9626000e+02, 0.0000000e+00, 1.0000000e+00])"
      ]
     },
     "execution_count": 629,
     "metadata": {},
     "output_type": "execute_result"
    }
   ],
   "source": [
    "lines_test[2160]"
   ]
  },
  {
   "cell_type": "code",
   "execution_count": 632,
   "metadata": {},
   "outputs": [
    {
     "data": {
      "text/plain": [
       "array([0.0000000e+00, 1.6036000e+05, 5.7700000e-02, 4.4000000e-02,\n",
       "       5.6300000e-02, 6.1400000e-02, 5.7700000e-02, 4.0000000e+00,\n",
       "       2.2446000e+00, 1.8723600e-04, 3.4859650e+05, 7.3402777e+06,\n",
       "       5.9673000e+02, 0.0000000e+00, 1.0000000e+00])"
      ]
     },
     "execution_count": 632,
     "metadata": {},
     "output_type": "execute_result"
    }
   ],
   "source": [
    "lines_test[2190]"
   ]
  },
  {
   "cell_type": "code",
   "execution_count": 625,
   "metadata": {},
   "outputs": [
    {
     "data": {
      "text/plain": [
       "array([252, 224, 224, 224, 224, 224, 224, 224, 224, 224, 224, 224, 224,\n",
       "       224, 224, 224, 224, 224, 224, 224, 224, 224, 224, 224, 224, 224,\n",
       "       224, 224, 224, 224, 224, 224, 224, 224, 224, 224, 224, 252, 252,\n",
       "       252, 252, 252, 252, 252, 252, 224, 224, 224, 224, 224, 224, 224,\n",
       "       224, 224, 224, 224, 224, 224, 224, 224, 224, 224, 224, 224, 224,\n",
       "       224, 224, 224, 224, 224, 224, 224, 224, 252, 252, 252, 252, 252,\n",
       "       252, 252, 252, 252, 252, 252, 252, 252, 252, 252, 252, 252, 252,\n",
       "       252, 252, 252, 252, 252, 252, 252, 252, 252, 252, 252, 252, 252,\n",
       "       252, 252, 252, 252, 252, 252, 252, 252, 252, 252, 252, 252, 252,\n",
       "       252, 252, 252, 252, 252, 252, 252, 252, 252, 252, 252, 252],\n",
       "      dtype=uint8)"
      ]
     },
     "execution_count": 625,
     "metadata": {},
     "output_type": "execute_result"
    }
   ],
   "source": [
    "output[800,71:200]"
   ]
  },
  {
   "cell_type": "code",
   "execution_count": 633,
   "metadata": {},
   "outputs": [
    {
     "ename": "NameError",
     "evalue": "name 'prediction' is not defined",
     "output_type": "error",
     "traceback": [
      "\u001b[0;31m---------------------------------------------------------------------------\u001b[0m",
      "\u001b[0;31mNameError\u001b[0m                                 Traceback (most recent call last)",
      "\u001b[0;32m<ipython-input-633-c3d8c93f720f>\u001b[0m in \u001b[0;36m<module>\u001b[0;34m()\u001b[0m\n\u001b[0;32m----> 1\u001b[0;31m \u001b[0mprediction\u001b[0m\u001b[0;34m\u001b[0m\u001b[0m\n\u001b[0m",
      "\u001b[0;31mNameError\u001b[0m: name 'prediction' is not defined"
     ]
    }
   ],
   "source": [
    "prediction"
   ]
  },
  {
   "cell_type": "code",
   "execution_count": 635,
   "metadata": {},
   "outputs": [],
   "source": [
    "import numpy as np\n",
    "import scipy as sp\n",
    "import scipy.spatial\n",
    "import itertools as it\n",
    "\n",
    "\n",
    "fr = open('AEM.txt')\n",
    "\n",
    "lines = np.array([map(float, line.split()) for line in fr])\n",
    "\n",
    "\n",
    "#extract label, drop label and unique-id\n",
    "label = lines[:,-2]\n",
    "lines = np.delete(lines,0,1)\n",
    "lines = np.delete(lines,-2,1)\n",
    "\n",
    "#whitening transform\n",
    "lines_whitened = (lines-lines.min(axis=0))/(lines.max(axis=0)-lines.min(axis=0))\n",
    "\n",
    "#build index\n",
    "data_index=scipy.spatial.KDTree(lines_whitened)\n",
    "\n",
    "fr_test = open('/g/data1a/ge3/yuhang/AEM_predict.txt')\n",
    "\n",
    "lines_test = np.array([map(float, line.split()) for line in fr_test])\n",
    "\n",
    "#extract xyz, drop xyz and unique-id\n",
    "xyz_test = lines_test[:,10:13]\n",
    "\n",
    "\n",
    "lines_test = np.delete(lines_test,[0,1,10,11,13],1)\n",
    "\n",
    "#whitening transform\n",
    "lines_whitened = (lines_test-lines.min(axis=0))/(lines.max(axis=0)-lines.min(axis=0))\n",
    "\n",
    "\n",
    "\n",
    "\n",
    "from multiprocessing import Pool\n",
    "\n",
    "\n",
    "\n",
    "def minibatch(bid,bsize=1000):\n",
    "    return data_index.query(lines_whitened[bid*bsize:(bid+1)*bsize],1)\n",
    "\n",
    "p=Pool(10)\n",
    "prediction = p.map(minibatch,range(1268))\n",
    "\n",
    "#label_predicted = label[map(int,np.hstack(prediction)[1,])]\n"
   ]
  },
  {
   "cell_type": "code",
   "execution_count": 636,
   "metadata": {},
   "outputs": [],
   "source": [
    "prediciton=map(int,np.hstack(prediction)[1,])"
   ]
  },
  {
   "cell_type": "code",
   "execution_count": 691,
   "metadata": {},
   "outputs": [
    {
     "data": {
      "text/plain": [
       "[147, 119, 149]"
      ]
     },
     "execution_count": 691,
     "metadata": {},
     "output_type": "execute_result"
    }
   ],
   "source": [
    "prediciton[2157:2160]"
   ]
  },
  {
   "cell_type": "code",
   "execution_count": 692,
   "metadata": {},
   "outputs": [
    {
     "data": {
      "text/plain": [
       "array([9., 8., 9.])"
      ]
     },
     "execution_count": 692,
     "metadata": {},
     "output_type": "execute_result"
    }
   ],
   "source": [
    "label[[147, 119, 149]]"
   ]
  },
  {
   "cell_type": "code",
   "execution_count": 690,
   "metadata": {},
   "outputs": [
    {
     "data": {
      "text/plain": [
       "array([[ 0.0000000e+00,  1.6035800e+05,  3.2500000e-03,  3.8400000e-03,\n",
       "         3.7800000e-03,  3.4500000e-02,  3.2500000e-03,  5.2440000e+01,\n",
       "         1.8981000e+00,  1.5874800e-04,  3.4858150e+05,  7.3402591e+06,\n",
       "         8.7200000e+01,  0.0000000e+00,  1.0000000e+00],\n",
       "       [ 0.0000000e+00,  1.6035800e+05,  3.7900000e-03,  3.5700000e-03,\n",
       "         3.9900000e-03,  4.2400000e-02,  3.7900000e-03,  5.7680000e+01,\n",
       "         1.8791200e+00,  1.5874800e-04,  3.4858150e+05,  7.3402591e+06,\n",
       "         3.2140000e+01,  0.0000000e+00,  1.0000000e+00],\n",
       "       [ 0.0000000e+00,  1.6035800e+05,  4.9200000e-03,  3.3800000e-03,\n",
       "         4.6200000e-03,  5.3200000e-02,  4.9200000e-03,  5.7680000e+01,\n",
       "         1.8603200e+00,  1.5874800e-04,  3.4858150e+05,  7.3402591e+06,\n",
       "        -2.5540000e+01,  0.0000000e+00,  1.0000000e+00]])"
      ]
     },
     "execution_count": 690,
     "metadata": {},
     "output_type": "execute_result"
    }
   ],
   "source": [
    "fr_test = open('/g/data1a/ge3/yuhang/AEM_predict.txt')\n",
    "\n",
    "lines_test = np.array([map(float, line.split()) for line in fr_test])\n",
    "lines_test[2157:2160]"
   ]
  },
  {
   "cell_type": "code",
   "execution_count": 649,
   "metadata": {},
   "outputs": [
    {
     "data": {
      "text/plain": [
       "array([0.0000000e+00, 1.6035800e+05, 9.4000000e-03, 1.0400000e-02,\n",
       "       9.0900000e-03, 6.1700000e-02, 9.4000000e-03, 2.9600000e+01,\n",
       "       2.0160800e+00, 1.5874800e-04, 3.4858150e+05, 7.3402591e+06,\n",
       "       3.2701000e+02, 0.0000000e+00, 1.0000000e+00])"
      ]
     },
     "execution_count": 649,
     "metadata": {},
     "output_type": "execute_result"
    }
   ],
   "source": [
    "lines_test[2151]"
   ]
  },
  {
   "cell_type": "code",
   "execution_count": 650,
   "metadata": {},
   "outputs": [
    {
     "data": {
      "text/plain": [
       "array([0.0000000e+00, 1.6035800e+05, 4.8500000e-03, 8.9200000e-03,\n",
       "       5.0600000e-03, 6.3400000e-02, 4.8500000e-03, 3.2560000e+01,\n",
       "       1.9959200e+00, 1.5874800e-04, 3.4858150e+05, 7.3402591e+06,\n",
       "       2.9593000e+02, 0.0000000e+00, 1.0000000e+00])"
      ]
     },
     "execution_count": 650,
     "metadata": {},
     "output_type": "execute_result"
    }
   ],
   "source": [
    "lines_test[2152]"
   ]
  },
  {
   "cell_type": "code",
   "execution_count": 651,
   "metadata": {},
   "outputs": [
    {
     "data": {
      "text/plain": [
       "array([0.0000000e+00, 1.6035900e+05, 9.3000000e-03, 1.0400000e-02,\n",
       "       9.0100000e-03, 6.0900000e-02, 9.3000000e-03, 2.9600000e+01,\n",
       "       1.9339300e+00, 1.1857600e-04, 3.4858900e+05, 7.3402684e+06,\n",
       "       3.2747000e+02, 0.0000000e+00, 1.0000000e+00])"
      ]
     },
     "execution_count": 651,
     "metadata": {},
     "output_type": "execute_result"
    }
   ],
   "source": [
    "lines_test[2181]"
   ]
  },
  {
   "cell_type": "code",
   "execution_count": 657,
   "metadata": {},
   "outputs": [
    {
     "data": {
      "text/plain": [
       "array([0.0000000e+00, 1.6036400e+05, 8.6300000e-03, 1.0100000e-02,\n",
       "       8.4300000e-03, 5.7900000e-02, 8.6300000e-03, 2.9600000e+01,\n",
       "       1.4890100e+00, 2.6539700e-04, 3.4862580e+05, 7.3403148e+06,\n",
       "       3.2969000e+02, 0.0000000e+00, 1.0000000e+00])"
      ]
     },
     "execution_count": 657,
     "metadata": {},
     "output_type": "execute_result"
    }
   ],
   "source": [
    "lines_test[2331]"
   ]
  },
  {
   "cell_type": "code",
   "execution_count": 658,
   "metadata": {},
   "outputs": [
    {
     "data": {
      "text/plain": [
       "array([0.0000000e+00, 1.6036500e+05, 8.5000000e-03, 1.0000000e-02,\n",
       "       8.3200000e-03, 5.7900000e-02, 8.5000000e-03, 2.9600000e+01,\n",
       "       1.3864300e+00, 2.4884600e-04, 3.4863300e+05, 7.3403241e+06,\n",
       "       3.3006000e+02, 0.0000000e+00, 1.0000000e+00])"
      ]
     },
     "execution_count": 658,
     "metadata": {},
     "output_type": "execute_result"
    }
   ],
   "source": [
    "lines_test[2361]"
   ]
  },
  {
   "cell_type": "code",
   "execution_count": 659,
   "metadata": {},
   "outputs": [
    {
     "data": {
      "text/plain": [
       "array([0.0000000e+00, 1.6036600e+05, 8.3400000e-03, 9.9700000e-03,\n",
       "       8.1800000e-03, 5.7600000e-02, 8.3400000e-03, 2.9600000e+01,\n",
       "       1.2736200e+00, 1.8158100e-04, 3.4864010e+05, 7.3403335e+06,\n",
       "       3.3027000e+02, 0.0000000e+00, 1.0000000e+00])"
      ]
     },
     "execution_count": 659,
     "metadata": {},
     "output_type": "execute_result"
    }
   ],
   "source": [
    "lines_test[2391]"
   ]
  },
  {
   "cell_type": "code",
   "execution_count": 667,
   "metadata": {},
   "outputs": [
    {
     "data": {
      "text/plain": [
       "array([ 0.0000000e+00,  1.6035900e+05,  4.7600000e-03,  3.2700000e-03,\n",
       "        4.4700000e-03,  5.2400000e-02,  4.7600000e-03,  5.7680000e+01,\n",
       "        1.7845200e+00,  1.1857600e-04,  3.4858900e+05,  7.3402684e+06,\n",
       "       -2.5080000e+01,  0.0000000e+00,  1.0000000e+00])"
      ]
     },
     "execution_count": 667,
     "metadata": {},
     "output_type": "execute_result"
    }
   ],
   "source": [
    "lines_test[2189]"
   ]
  },
  {
   "cell_type": "code",
   "execution_count": 668,
   "metadata": {},
   "outputs": [
    {
     "data": {
      "text/plain": [
       "array([ 3.4858900e+05,  7.3402684e+06, -2.5000000e+01,  8.0000000e+00])"
      ]
     },
     "execution_count": 668,
     "metadata": {},
     "output_type": "execute_result"
    }
   ],
   "source": [
    "lines_result[2189]"
   ]
  },
  {
   "cell_type": "code",
   "execution_count": 685,
   "metadata": {},
   "outputs": [
    {
     "data": {
      "text/plain": [
       "array([[ 0.0000000e+00,  1.6035800e+05,  2.5800000e-03,  4.9100000e-03,\n",
       "         3.2300000e-03,  3.3700000e-02,  2.5800000e-03,  4.3340000e+01,\n",
       "         1.9366400e+00,  1.5874800e-04,  3.4858150e+05,  7.3402591e+06,\n",
       "         1.8276000e+02,  0.0000000e+00,  1.0000000e+00],\n",
       "       [ 0.0000000e+00,  1.6035800e+05,  2.9000000e-03,  4.2500000e-03,\n",
       "         3.5700000e-03,  3.1500000e-02,  2.9000000e-03,  4.7670000e+01,\n",
       "         1.9172700e+00,  1.5874800e-04,  3.4858150e+05,  7.3402591e+06,\n",
       "         1.3725500e+02,  0.0000000e+00,  1.0000000e+00],\n",
       "       [ 0.0000000e+00,  1.6035800e+05,  3.2500000e-03,  3.8400000e-03,\n",
       "         3.7800000e-03,  3.4500000e-02,  3.2500000e-03,  5.2440000e+01,\n",
       "         1.8981000e+00,  1.5874800e-04,  3.4858150e+05,  7.3402591e+06,\n",
       "         8.7200000e+01,  0.0000000e+00,  1.0000000e+00],\n",
       "       [ 0.0000000e+00,  1.6035800e+05,  3.7900000e-03,  3.5700000e-03,\n",
       "         3.9900000e-03,  4.2400000e-02,  3.7900000e-03,  5.7680000e+01,\n",
       "         1.8791200e+00,  1.5874800e-04,  3.4858150e+05,  7.3402591e+06,\n",
       "         3.2140000e+01,  0.0000000e+00,  1.0000000e+00],\n",
       "       [ 0.0000000e+00,  1.6035800e+05,  4.9200000e-03,  3.3800000e-03,\n",
       "         4.6200000e-03,  5.3200000e-02,  4.9200000e-03,  5.7680000e+01,\n",
       "         1.8603200e+00,  1.5874800e-04,  3.4858150e+05,  7.3402591e+06,\n",
       "        -2.5540000e+01,  0.0000000e+00,  1.0000000e+00]])"
      ]
     },
     "execution_count": 685,
     "metadata": {},
     "output_type": "execute_result"
    }
   ],
   "source": [
    "lines_test[2155:2160]"
   ]
  },
  {
   "cell_type": "code",
   "execution_count": 689,
   "metadata": {
    "scrolled": true
   },
   "outputs": [
    {
     "data": {
      "text/plain": [
       "array([[ 3.4858150e+05,  7.3402591e+06,  5.9600000e+02,  8.0000000e+00],\n",
       "       [ 3.4858150e+05,  7.3402591e+06,  5.9200000e+02,  8.0000000e+00],\n",
       "       [ 3.4858150e+05,  7.3402591e+06,  5.8700000e+02,  8.0000000e+00],\n",
       "       [ 3.4858150e+05,  7.3402591e+06,  5.8200000e+02,  8.0000000e+00],\n",
       "       [ 3.4858150e+05,  7.3402591e+06,  5.7600000e+02,  8.0000000e+00],\n",
       "       [ 3.4858150e+05,  7.3402591e+06,  5.7000000e+02,  8.0000000e+00],\n",
       "       [ 3.4858150e+05,  7.3402591e+06,  5.6300000e+02,  8.0000000e+00],\n",
       "       [ 3.4858150e+05,  7.3402591e+06,  5.5600000e+02,  8.0000000e+00],\n",
       "       [ 3.4858150e+05,  7.3402591e+06,  5.4800000e+02,  8.0000000e+00],\n",
       "       [ 3.4858150e+05,  7.3402591e+06,  5.3900000e+02,  8.0000000e+00],\n",
       "       [ 3.4858150e+05,  7.3402591e+06,  5.2900000e+02,  8.0000000e+00],\n",
       "       [ 3.4858150e+05,  7.3402591e+06,  5.1800000e+02,  8.0000000e+00],\n",
       "       [ 3.4858150e+05,  7.3402591e+06,  5.0600000e+02,  8.0000000e+00],\n",
       "       [ 3.4858150e+05,  7.3402591e+06,  4.9300000e+02,  8.0000000e+00],\n",
       "       [ 3.4858150e+05,  7.3402591e+06,  4.7800000e+02,  8.0000000e+00],\n",
       "       [ 3.4858150e+05,  7.3402591e+06,  4.6200000e+02,  8.0000000e+00],\n",
       "       [ 3.4858150e+05,  7.3402591e+06,  4.4500000e+02,  8.0000000e+00],\n",
       "       [ 3.4858150e+05,  7.3402591e+06,  4.2600000e+02,  8.0000000e+00],\n",
       "       [ 3.4858150e+05,  7.3402591e+06,  4.0400000e+02,  8.0000000e+00],\n",
       "       [ 3.4858150e+05,  7.3402591e+06,  3.8100000e+02,  8.0000000e+00],\n",
       "       [ 3.4858150e+05,  7.3402591e+06,  3.5500000e+02,  8.0000000e+00],\n",
       "       [ 3.4858150e+05,  7.3402591e+06,  3.2700000e+02,  8.0000000e+00],\n",
       "       [ 3.4858150e+05,  7.3402591e+06,  2.9600000e+02,  9.0000000e+00],\n",
       "       [ 3.4858150e+05,  7.3402591e+06,  2.6200000e+02,  9.0000000e+00],\n",
       "       [ 3.4858150e+05,  7.3402591e+06,  2.2400000e+02,  9.0000000e+00],\n",
       "       [ 3.4858150e+05,  7.3402591e+06,  1.8300000e+02,  9.0000000e+00],\n",
       "       [ 3.4858150e+05,  7.3402591e+06,  1.3700000e+02,  9.0000000e+00],\n",
       "       [ 3.4858150e+05,  7.3402591e+06,  8.7000000e+01,  9.0000000e+00],\n",
       "       [ 3.4858150e+05,  7.3402591e+06,  3.2000000e+01,  8.0000000e+00],\n",
       "       [ 3.4858150e+05,  7.3402591e+06, -2.6000000e+01,  9.0000000e+00]])"
      ]
     },
     "execution_count": 689,
     "metadata": {},
     "output_type": "execute_result"
    }
   ],
   "source": [
    "x=2130\n",
    "y=0\n",
    "\n",
    "lines_result[x+y:x+y+30]"
   ]
  },
  {
   "cell_type": "code",
   "execution_count": 688,
   "metadata": {},
   "outputs": [
    {
     "data": {
      "text/plain": [
       "array([[ 0.0000000e+00,  1.6035800e+05,  2.5800000e-03,  4.9100000e-03,\n",
       "         3.2300000e-03,  3.3700000e-02,  2.5800000e-03,  4.3340000e+01,\n",
       "         1.9366400e+00,  1.5874800e-04,  3.4858150e+05,  7.3402591e+06,\n",
       "         1.8276000e+02,  0.0000000e+00,  1.0000000e+00],\n",
       "       [ 0.0000000e+00,  1.6035800e+05,  2.9000000e-03,  4.2500000e-03,\n",
       "         3.5700000e-03,  3.1500000e-02,  2.9000000e-03,  4.7670000e+01,\n",
       "         1.9172700e+00,  1.5874800e-04,  3.4858150e+05,  7.3402591e+06,\n",
       "         1.3725500e+02,  0.0000000e+00,  1.0000000e+00],\n",
       "       [ 0.0000000e+00,  1.6035800e+05,  3.2500000e-03,  3.8400000e-03,\n",
       "         3.7800000e-03,  3.4500000e-02,  3.2500000e-03,  5.2440000e+01,\n",
       "         1.8981000e+00,  1.5874800e-04,  3.4858150e+05,  7.3402591e+06,\n",
       "         8.7200000e+01,  0.0000000e+00,  1.0000000e+00],\n",
       "       [ 0.0000000e+00,  1.6035800e+05,  3.7900000e-03,  3.5700000e-03,\n",
       "         3.9900000e-03,  4.2400000e-02,  3.7900000e-03,  5.7680000e+01,\n",
       "         1.8791200e+00,  1.5874800e-04,  3.4858150e+05,  7.3402591e+06,\n",
       "         3.2140000e+01,  0.0000000e+00,  1.0000000e+00],\n",
       "       [ 0.0000000e+00,  1.6035800e+05,  4.9200000e-03,  3.3800000e-03,\n",
       "         4.6200000e-03,  5.3200000e-02,  4.9200000e-03,  5.7680000e+01,\n",
       "         1.8603200e+00,  1.5874800e-04,  3.4858150e+05,  7.3402591e+06,\n",
       "        -2.5540000e+01,  0.0000000e+00,  1.0000000e+00]])"
      ]
     },
     "execution_count": 688,
     "metadata": {},
     "output_type": "execute_result"
    }
   ],
   "source": [
    "lines_test[2155:2160]"
   ]
  },
  {
   "cell_type": "code",
   "execution_count": 693,
   "metadata": {},
   "outputs": [
    {
     "data": {
      "text/plain": [
       "array([8., 8., 8., ..., 8., 8., 8.])"
      ]
     },
     "execution_count": 693,
     "metadata": {},
     "output_type": "execute_result"
    }
   ],
   "source": [
    "label"
   ]
  },
  {
   "cell_type": "code",
   "execution_count": 694,
   "metadata": {},
   "outputs": [
    {
     "data": {
      "text/plain": [
       "9.0"
      ]
     },
     "execution_count": 694,
     "metadata": {},
     "output_type": "execute_result"
    }
   ],
   "source": [
    "label.max()"
   ]
  },
  {
   "cell_type": "code",
   "execution_count": null,
   "metadata": {},
   "outputs": [],
   "source": []
  }
 ],
 "metadata": {
  "kernelspec": {
   "display_name": "Python 3",
   "language": "python",
   "name": "python3"
  },
  "language_info": {
   "codemirror_mode": {
    "name": "ipython",
    "version": 3
   },
   "file_extension": ".py",
   "mimetype": "text/x-python",
   "name": "python",
   "nbconvert_exporter": "python",
   "pygments_lexer": "ipython3",
   "version": "3.6.6"
  }
 },
 "nbformat": 4,
 "nbformat_minor": 2
}
