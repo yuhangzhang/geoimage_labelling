{
 "cells": [
  {
   "cell_type": "code",
   "execution_count": 3,
   "metadata": {
    "scrolled": true
   },
   "outputs": [
    {
     "ename": "ModuleNotFoundError",
     "evalue": "No module named 'cv2'",
     "output_type": "error",
     "traceback": [
      "\u001b[0;31m---------------------------------------------------------------------------\u001b[0m",
      "\u001b[0;31mModuleNotFoundError\u001b[0m                       Traceback (most recent call last)",
      "\u001b[0;32m<ipython-input-3-dc80b568dac4>\u001b[0m in \u001b[0;36m<module>\u001b[0;34m()\u001b[0m\n\u001b[1;32m     11\u001b[0m \u001b[0;32mimport\u001b[0m \u001b[0mPyQt5\u001b[0m\u001b[0;34m.\u001b[0m\u001b[0mQtCore\u001b[0m \u001b[0;32mas\u001b[0m \u001b[0mQtCore\u001b[0m\u001b[0;34m\u001b[0m\u001b[0m\n\u001b[1;32m     12\u001b[0m \u001b[0;34m\u001b[0m\u001b[0m\n\u001b[0;32m---> 13\u001b[0;31m \u001b[0;32mimport\u001b[0m \u001b[0mcv2\u001b[0m\u001b[0;34m\u001b[0m\u001b[0m\n\u001b[0m\u001b[1;32m     14\u001b[0m \u001b[0;32mfrom\u001b[0m \u001b[0mcv2\u001b[0m \u001b[0;32mimport\u001b[0m \u001b[0mimwrite\u001b[0m \u001b[0;32mas\u001b[0m \u001b[0mimwrite\u001b[0m\u001b[0;34m\u001b[0m\u001b[0m\n\u001b[1;32m     15\u001b[0m \u001b[0;34m\u001b[0m\u001b[0m\n",
      "\u001b[0;31mModuleNotFoundError\u001b[0m: No module named 'cv2'"
     ]
    }
   ],
   "source": [
    "#!/usr/bin/env python\n",
    "# -*- coding: utf-8 -*-\n",
    "\n",
    "import sys\n",
    "from PyQt5.QtWidgets import *\n",
    "from PyQt5.QtCore import *\n",
    "from PyQt5.QtGui import *\n",
    "from skimage.draw import polygon\n",
    "\n",
    "import PyQt5.QtGui as QtGui\n",
    "import PyQt5.QtCore as QtCore\n",
    "\n",
    "import cv2\n",
    "from cv2 import imwrite as imwrite\n",
    "\n",
    "\n",
    "import numpy as np\n",
    "import shapefile as sf\n",
    "import sklearn.decomposition as sd\n",
    "\n",
    "\n",
    "\n",
    "\n",
    "\n",
    "inputfile = sf.Reader(\"/g/data1a/ge3/AEM_Model/3D_AEM_model_V3.shp\")\n",
    "inputrecord = np.array(inputfile.records())\n",
    "\n",
    "xyz = inputrecord[:,10:13].astype(float) #nx3 matrix\n",
    "\n",
    "height = len(np.unique(xyz[:,2], axis=0))\n",
    "width = len(np.unique(xyz[:,0:2], axis=0))\n",
    "\n",
    "#project x, y onto a line\n",
    "pca = sd.PCA(n_components=1)\n",
    "pca.fit(xyz[:,0:2])\n",
    "xy = pca.transform(xyz[:,0:2])\n",
    "\n",
    "print(inputrecord.shape)\n",
    "print(xy.shape)\n",
    "\n",
    "width=800\n",
    "height=600\n",
    "\n",
    "point = np.hstack([inputrecord,xy.reshape(-1,1),inputrecord[:,12].reshape(-1,1)])\n",
    "\n",
    "\n",
    "\n",
    "img = np.zeros([height,width,3],dtype=float)\n",
    "\n",
    "bucket = [[[] for h in range(height)] for w in range(width)]\n",
    "\n",
    "point[:,-1] = np.round(\n",
    "    (point[:,-1].astype(float) - point[:,-1].astype(float).min())\n",
    "    /(point[:,-1].astype(float).max() - point[:,-1].astype(float).min())\n",
    "    *(height-1)\n",
    "   )\n",
    "point[:,-2] = np.round(\n",
    "    (point[:,-2].astype(float) - point[:,-2].astype(float).min())\n",
    "    /(point[:, -2].astype(float).max() - point[:, -2].astype(float).min())\n",
    "    *(width-1)\n",
    "   )\n",
    "\n",
    "bucket_size = np.zeros([width,height,3],dtype=np.int)\n",
    "\n",
    "for p in point:\n",
    "    if p[1]!='Surface':\n",
    "        p = p[[2,3,4,-2,-1]].astype(float)\n",
    "\n",
    "        bucket[int(p[-2])][int(p[-1])].append(p)\n",
    "        img[int(p[-1]), int(p[-2]), 0] = p[0]\n",
    "        img[int(p[-1]), int(p[-2]), 1] = p[1]\n",
    "        img[int(p[-1]), int(p[-2]), 2] = p[2]\n",
    "        bucket_size[int(p[-2]), int(p[-1]), :] = bucket_size[int(p[-2]), int(p[-1]), :]+1\n",
    "\n",
    "for i in range(bucket_size.shape[0]):\n",
    "    for j in range(bucket_size.shape[1]):\n",
    "        for k in range(bucket_size.shape[2]):\n",
    "            if bucket_size[i,j,k]==0:\n",
    "                bucket_size[i, j, k]=1\n",
    "\n",
    "img = img/bucket_size\n",
    "\n",
    "minr = img[:,:,0].min()\n",
    "ming = img[:,:,1].min()\n",
    "minb = img[:,:,2].min()\n",
    "\n",
    "maxr = img[:,:,0].max()\n",
    "maxg = img[:,:,1].max()\n",
    "maxb = img[:,:,2].max()\n",
    "\n",
    "print(minr,ming,minb)\n",
    "print(maxr,maxg,maxb)\n",
    "\n",
    "img[:, :, 0] = (img[:, :, 0] - minr) * 255 / (maxr - minr)\n",
    "img[:, :, 1] = (img[:, :, 1] - ming) * 255 / (maxg - ming)\n",
    "img[:, :, 2] = (img[:, :, 2] - minb) * 255 / (maxb - minb)\n"
   ]
  },
  {
   "cell_type": "code",
   "execution_count": null,
   "metadata": {},
   "outputs": [],
   "source": [
    "x=QPixmap()"
   ]
  },
  {
   "cell_type": "code",
   "execution_count": 4,
   "metadata": {},
   "outputs": [],
   "source": [
    "x."
   ]
  },
  {
   "cell_type": "code",
   "execution_count": 5,
   "metadata": {},
   "outputs": [
    {
     "data": {
      "text/plain": [
       "[1, 2, 3, 4]"
      ]
     },
     "execution_count": 5,
     "metadata": {},
     "output_type": "execute_result"
    }
   ],
   "source": [
    "x"
   ]
  },
  {
   "cell_type": "code",
   "execution_count": null,
   "metadata": {},
   "outputs": [
    {
     "name": "stdout",
     "output_type": "stream",
     "text": [
      "(PyQt5.QtCore.QDate(2018, 8, 23), PyQt5.QtCore.QTime(17, 13, 1, 78), True)\n"
     ]
    }
   ],
   "source": [
    "import sys\n",
    "from PyQt5.QtWidgets import *\n",
    "from PyQt5.QtCore import *\n",
    "from PyQt5.QtGui import *\n",
    "from skimage.draw import polygon\n",
    "\n",
    "import PyQt5.QtGui as QtGui\n",
    "import PyQt5.QtCore as QtCore\n",
    "\n",
    "class DateDialog(QDialog):\n",
    "    def __init__(self, parent = None):\n",
    "        super(DateDialog, self).__init__(parent)\n",
    "\n",
    "        layout = QVBoxLayout(self)\n",
    "\n",
    "        # nice widget for editing the date\n",
    "        self.datetime = QDateTimeEdit(self)\n",
    "        self.datetime.setCalendarPopup(True)\n",
    "        self.datetime.setDateTime(QDateTime.currentDateTime())\n",
    "        layout.addWidget(self.datetime)\n",
    "\n",
    "        # OK and Cancel buttons\n",
    "        buttons = QDialogButtonBox(\n",
    "            QDialogButtonBox.Ok | QDialogButtonBox.Cancel,\n",
    "            Qt.Horizontal, self)\n",
    "        buttons.accepted.connect(self.accept)\n",
    "        buttons.rejected.connect(self.reject)\n",
    "        layout.addWidget(buttons)\n",
    "\n",
    "    # get current date and time from the dialog\n",
    "    def dateTime(self):\n",
    "        return self.datetime.dateTime()\n",
    "\n",
    "    # static method to create the dialog and return (date, time, accepted)\n",
    "    @staticmethod\n",
    "    def getDateTime(parent = None):\n",
    "        dialog = DateDialog(parent)\n",
    "        result = dialog.exec_()\n",
    "        date = dialog.dateTime()\n",
    "        return (date.date(), date.time(), result == QDialog.Accepted)\n",
    "    \n",
    "\n",
    "\n",
    "if __name__ == \"__main__\":\n",
    "    app = QApplication(sys.argv)\n",
    "\n",
    "    x = DateDialog()\n",
    "    print(x.getDateTime())\n",
    "\n",
    "    sys.exit(app.exec_())    "
   ]
  },
  {
   "cell_type": "code",
   "execution_count": 1,
   "metadata": {},
   "outputs": [
    {
     "ename": "ModuleNotFoundError",
     "evalue": "No module named 'shapefile'",
     "output_type": "error",
     "traceback": [
      "\u001b[0;31m---------------------------------------------------------------------------\u001b[0m",
      "\u001b[0;31mModuleNotFoundError\u001b[0m                       Traceback (most recent call last)",
      "\u001b[0;32m<ipython-input-1-ea7070f8aca2>\u001b[0m in \u001b[0;36m<module>\u001b[0;34m()\u001b[0m\n\u001b[1;32m      6\u001b[0m \u001b[0;32mimport\u001b[0m \u001b[0mPyQt5\u001b[0m\u001b[0;34m.\u001b[0m\u001b[0mQtGui\u001b[0m \u001b[0;32mas\u001b[0m \u001b[0mQtGui\u001b[0m\u001b[0;34m\u001b[0m\u001b[0m\n\u001b[1;32m      7\u001b[0m \u001b[0;32mimport\u001b[0m \u001b[0mPyQt5\u001b[0m\u001b[0;34m.\u001b[0m\u001b[0mQtCore\u001b[0m \u001b[0;32mas\u001b[0m \u001b[0mQtCore\u001b[0m\u001b[0;34m\u001b[0m\u001b[0m\n\u001b[0;32m----> 8\u001b[0;31m \u001b[0;32mimport\u001b[0m \u001b[0mshapefile\u001b[0m\u001b[0;34m\u001b[0m\u001b[0m\n\u001b[0m",
      "\u001b[0;31mModuleNotFoundError\u001b[0m: No module named 'shapefile'"
     ]
    }
   ],
   "source": [
    "\n",
    "import sys\n",
    "from PyQt5.QtWidgets import *\n",
    "from PyQt5.QtCore import *\n",
    "from PyQt5.QtGui import *\n",
    "import PyQt5.QtGui as QtGui\n",
    "import PyQt5.QtCore as QtCore\n",
    "import shapefile"
   ]
  },
  {
   "cell_type": "code",
   "execution_count": null,
   "metadata": {},
   "outputs": [],
   "source": [
    "\n",
    "class myshapefile:\n",
    "    def __init__(self):\n",
    "        inputfile = sf.Reader(\"/g/data1a/ge3/AEM_Model/3D_AEM_model_V3.shp\")\n",
    "        inputrecord = np.array(inputfile.records())\n",
    "\n",
    "        xyz = inputrecord[:,10:13].astype(float) #nx3 matrix\n",
    "\n",
    "        height = len(np.unique(xyz[:,2], axis=0))\n",
    "        width = len(np.unique(xyz[:,0:2], axis=0))\n",
    "\n",
    "        #project x, y onto a line\n",
    "        pca = sd.PCA(n_components=1)\n",
    "        pca.fit(xyz[:,0:2])\n",
    "        xy = pca.transform(xyz[:,0:2])\n",
    "\n",
    "        self.point = np.vstack([inputrecord,xy,inputrecord[12]])\n",
    "\n",
    "\n",
    "\n",
    "\n",
    "\n",
    "    def getimage(self,width,height):\n",
    "        img = np.zeros([width,height,3],dype=np.float)\n",
    "\n",
    "        self.bucket = [[[] for h in range(height)] for w in range(width)]\n",
    "\n",
    "        self.point[:,-1] = np.round((self.point[:,-1] - self.point[:,-1].min())/(width+1))\n",
    "        self.point[:,-2] = np.round((self.point[:,-2] - self.point[:,-2].min())/(height+1))\n",
    "\n",
    "        bucket_size = np.zeros([width,height],dype=np.int)\n",
    "\n",
    "        for p in self.point:\n",
    "            self.bucket[p[-2]][p[-1]].append(p)\n",
    "            img[p[-2], p[-1], 0] = p[2]\n",
    "            img[p[-2], p[-1], 1] = p[3]\n",
    "            img[p[-2], p[-1], 2] = p[4]\n",
    "            bucket_size[p[-2], p[-1]] = bucket_size[p[-2], p[-1]]+1\n",
    "\n",
    "        img = img/bucket_size\n",
    "\n",
    "        minr = img[:,:,0].min()\n",
    "        ming = img[:,:,1].min()\n",
    "        minb = img[:,:,2].min()\n",
    "\n",
    "        maxr = img[:,:,0].max()\n",
    "        maxg = img[:,:,1].max()\n",
    "        maxb = img[:,:,2].max()\n",
    "\n",
    "        img[:, :, 0] = (img[:, :, 0] - minr) * 255 / (maxr - minr)\n",
    "        img[:, :, 1] = (img[:, :, 1] - ming) * 255 / (maxg - ming)\n",
    "        img[:, :, 2] = (img[:, :, 2] - minb) * 255 / (maxb - minb)\n",
    "\n",
    "        return(img.astype(np.uint8))\n",
    "\n"
   ]
  },
  {
   "cell_type": "code",
   "execution_count": null,
   "metadata": {},
   "outputs": [],
   "source": []
  }
 ],
 "metadata": {
  "kernelspec": {
   "display_name": "Python 3",
   "language": "python",
   "name": "python3"
  },
  "language_info": {
   "codemirror_mode": {
    "name": "ipython",
    "version": 3
   },
   "file_extension": ".py",
   "mimetype": "text/x-python",
   "name": "python",
   "nbconvert_exporter": "python",
   "pygments_lexer": "ipython3",
   "version": "3.6.5"
  }
 },
 "nbformat": 4,
 "nbformat_minor": 2
}
