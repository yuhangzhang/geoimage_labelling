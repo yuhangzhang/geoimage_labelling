{
 "cells": [
  {
   "cell_type": "code",
   "execution_count": 92,
   "metadata": {
    "scrolled": true
   },
   "outputs": [
    {
     "ename": "KeyboardInterrupt",
     "evalue": "",
     "output_type": "error",
     "traceback": [
      "\u001b[0;31m---------------------------------------------------------------------------\u001b[0m",
      "\u001b[0;31mKeyboardInterrupt\u001b[0m                         Traceback (most recent call last)",
      "\u001b[0;32m<ipython-input-92-197122271a5c>\u001b[0m in \u001b[0;36m<module>\u001b[0;34m()\u001b[0m\n\u001b[1;32m     24\u001b[0m \u001b[0;34m\u001b[0m\u001b[0m\n\u001b[1;32m     25\u001b[0m \u001b[0minputfile\u001b[0m \u001b[0;34m=\u001b[0m \u001b[0msf\u001b[0m\u001b[0;34m.\u001b[0m\u001b[0mReader\u001b[0m\u001b[0;34m(\u001b[0m\u001b[0;34m\"/g/data1a/ge3/AEM_Model/3D_AEM_model_V3.shp\"\u001b[0m\u001b[0;34m)\u001b[0m\u001b[0;34m\u001b[0m\u001b[0m\n\u001b[0;32m---> 26\u001b[0;31m \u001b[0minputrecord\u001b[0m \u001b[0;34m=\u001b[0m \u001b[0mnp\u001b[0m\u001b[0;34m.\u001b[0m\u001b[0marray\u001b[0m\u001b[0;34m(\u001b[0m\u001b[0minputfile\u001b[0m\u001b[0;34m.\u001b[0m\u001b[0mrecords\u001b[0m\u001b[0;34m(\u001b[0m\u001b[0;34m)\u001b[0m\u001b[0;34m)\u001b[0m\u001b[0;34m\u001b[0m\u001b[0m\n\u001b[0m\u001b[1;32m     27\u001b[0m \u001b[0;34m\u001b[0m\u001b[0m\n\u001b[1;32m     28\u001b[0m \u001b[0mxyz\u001b[0m \u001b[0;34m=\u001b[0m \u001b[0minputrecord\u001b[0m\u001b[0;34m[\u001b[0m\u001b[0;34m:\u001b[0m\u001b[0;34m,\u001b[0m\u001b[0;36m10\u001b[0m\u001b[0;34m:\u001b[0m\u001b[0;36m13\u001b[0m\u001b[0;34m]\u001b[0m\u001b[0;34m.\u001b[0m\u001b[0mastype\u001b[0m\u001b[0;34m(\u001b[0m\u001b[0mfloat\u001b[0m\u001b[0;34m)\u001b[0m \u001b[0;31m#nx3 matrix\u001b[0m\u001b[0;34m\u001b[0m\u001b[0m\n",
      "\u001b[0;32m/g/data1a/ge3/yuhang/anaconda3/lib/python3.6/site-packages/shapefile.py\u001b[0m in \u001b[0;36mrecords\u001b[0;34m(self)\u001b[0m\n\u001b[1;32m    583\u001b[0m         \u001b[0mf\u001b[0m\u001b[0;34m.\u001b[0m\u001b[0mseek\u001b[0m\u001b[0;34m(\u001b[0m\u001b[0mself\u001b[0m\u001b[0;34m.\u001b[0m\u001b[0m__dbfHdrLength\u001b[0m\u001b[0;34m)\u001b[0m\u001b[0;34m\u001b[0m\u001b[0m\n\u001b[1;32m    584\u001b[0m         \u001b[0;32mfor\u001b[0m \u001b[0mi\u001b[0m \u001b[0;32min\u001b[0m \u001b[0mrange\u001b[0m\u001b[0;34m(\u001b[0m\u001b[0mself\u001b[0m\u001b[0;34m.\u001b[0m\u001b[0mnumRecords\u001b[0m\u001b[0;34m)\u001b[0m\u001b[0;34m:\u001b[0m\u001b[0;34m\u001b[0m\u001b[0m\n\u001b[0;32m--> 585\u001b[0;31m             \u001b[0mr\u001b[0m \u001b[0;34m=\u001b[0m \u001b[0mself\u001b[0m\u001b[0;34m.\u001b[0m\u001b[0m__record\u001b[0m\u001b[0;34m(\u001b[0m\u001b[0;34m)\u001b[0m\u001b[0;34m\u001b[0m\u001b[0m\n\u001b[0m\u001b[1;32m    586\u001b[0m             \u001b[0;32mif\u001b[0m \u001b[0mr\u001b[0m\u001b[0;34m:\u001b[0m\u001b[0;34m\u001b[0m\u001b[0m\n\u001b[1;32m    587\u001b[0m                 \u001b[0mrecords\u001b[0m\u001b[0;34m.\u001b[0m\u001b[0mappend\u001b[0m\u001b[0;34m(\u001b[0m\u001b[0mr\u001b[0m\u001b[0;34m)\u001b[0m\u001b[0;34m\u001b[0m\u001b[0m\n",
      "\u001b[0;32m/g/data1a/ge3/yuhang/anaconda3/lib/python3.6/site-packages/shapefile.py\u001b[0m in \u001b[0;36m__record\u001b[0;34m(self)\u001b[0m\n\u001b[1;32m    561\u001b[0m                 \u001b[0mvalue\u001b[0m \u001b[0;34m=\u001b[0m \u001b[0mu\u001b[0m\u001b[0;34m(\u001b[0m\u001b[0mvalue\u001b[0m\u001b[0;34m)\u001b[0m\u001b[0;34m\u001b[0m\u001b[0m\n\u001b[1;32m    562\u001b[0m                 \u001b[0mvalue\u001b[0m \u001b[0;34m=\u001b[0m \u001b[0mvalue\u001b[0m\u001b[0;34m.\u001b[0m\u001b[0mstrip\u001b[0m\u001b[0;34m(\u001b[0m\u001b[0;34m)\u001b[0m\u001b[0;34m\u001b[0m\u001b[0m\n\u001b[0;32m--> 563\u001b[0;31m             \u001b[0mrecord\u001b[0m\u001b[0;34m.\u001b[0m\u001b[0mappend\u001b[0m\u001b[0;34m(\u001b[0m\u001b[0mvalue\u001b[0m\u001b[0;34m)\u001b[0m\u001b[0;34m\u001b[0m\u001b[0m\n\u001b[0m\u001b[1;32m    564\u001b[0m         \u001b[0;32mreturn\u001b[0m \u001b[0mrecord\u001b[0m\u001b[0;34m\u001b[0m\u001b[0m\n\u001b[1;32m    565\u001b[0m \u001b[0;34m\u001b[0m\u001b[0m\n",
      "\u001b[0;31mKeyboardInterrupt\u001b[0m: "
     ]
    }
   ],
   "source": [
    "#!/usr/bin/env python\n",
    "# -*- coding: utf-8 -*-\n",
    "\n",
    "import sys\n",
    "from PyQt5.QtWidgets import *\n",
    "from PyQt5.QtCore import *\n",
    "from PyQt5.QtGui import *\n",
    "from skimage.draw import polygon\n",
    "\n",
    "import PyQt5.QtGui as QtGui\n",
    "import PyQt5.QtCore as QtCore\n",
    "\n",
    "import cv2\n",
    "from cv2 import imwrite as imwrite\n",
    "\n",
    "\n",
    "import numpy as np\n",
    "import shapefile as sf\n",
    "import sklearn.decomposition as sd\n",
    "\n",
    "\n",
    "\n",
    "\n",
    "\n",
    "inputfile = sf.Reader(\"/g/data1a/ge3/AEM_Model/3D_AEM_model_V3.shp\")\n",
    "inputrecord = np.array(inputfile.records())\n",
    "\n",
    "xyz = inputrecord[:,10:13].astype(float) #nx3 matrix\n",
    "\n",
    "height = len(np.unique(xyz[:,2], axis=0))\n",
    "width = len(np.unique(xyz[:,0:2], axis=0))\n",
    "\n",
    "#project x, y onto a line\n",
    "pca = sd.PCA(n_components=1)\n",
    "pca.fit(xyz[:,0:2])\n",
    "xy = pca.transform(xyz[:,0:2])\n",
    "\n",
    "print(inputrecord.shape)\n",
    "print(xy.shape)\n",
    "\n",
    "width=800\n",
    "height=600\n",
    "\n",
    "point = np.hstack([inputrecord,xy.reshape(-1,1),inputrecord[:,12].reshape(-1,1)])\n",
    "\n",
    "\n",
    "\n",
    "img = np.zeros([height,width,3],dtype=float)\n",
    "\n",
    "bucket = [[[] for h in range(height)] for w in range(width)]\n",
    "\n",
    "point[:,-1] = np.round(\n",
    "    (point[:,-1].astype(float) - point[:,-1].astype(float).min())\n",
    "    /(point[:,-1].astype(float).max() - point[:,-1].astype(float).min())\n",
    "    *(height-1)\n",
    "   )\n",
    "point[:,-2] = np.round(\n",
    "    (point[:,-2].astype(float) - point[:,-2].astype(float).min())\n",
    "    /(point[:, -2].astype(float).max() - point[:, -2].astype(float).min())\n",
    "    *(width-1)\n",
    "   )\n",
    "bucket_size = np.zeros([height,width,3],dtype=np.int)\n",
    "\n",
    "for p in point:\n",
    "    if p[1]!='Surface':\n",
    "        p = p[[2,3,4,-2,-1]].astype(float)\n",
    "        p[-1]=height-1-p[-1]\n",
    "        bucket[int(p[-2])][int(p[-1])].append(p)\n",
    "        img[int(p[-1]), int(p[-2]), 0] = img[int(p[-1]), int(p[-2]), 0]+p[0]\n",
    "        img[int(p[-1]), int(p[-2]), 1] = img[int(p[-1]), int(p[-2]), 1]+p[1]\n",
    "        img[int(p[-1]), int(p[-2]), 2] = img[int(p[-1]), int(p[-2]), 2]+p[2]\n",
    "        bucket_size[int(p[-1]), int(p[-2]), :] = bucket_size[int(p[-1]), int(p[-2]), :]+1\n",
    "\n",
    "count = 0\n",
    "\n",
    "for i in range(bucket_size.shape[0]):\n",
    "    for j in range(bucket_size.shape[1]):\n",
    "        for k in range(bucket_size.shape[2]):\n",
    "            if bucket_size[i,j,k]==0:\n",
    "                bucket_size[i, j, k]=1\n",
    "            else:\n",
    "                count = count+bucket_size[i,j,k]\n",
    "print(count)\n",
    "\n",
    "img = img/bucket_size\n",
    "\n",
    "minr = img[:,:,0][np.nonzero(img[:,:,0])].min()\n",
    "ming = img[:,:,1][np.nonzero(img[:,:,0])].min()\n",
    "minb = img[:,:,2][np.nonzero(img[:,:,0])].min()\n",
    "\n",
    "maxr = img[:,:,0].max()\n",
    "maxg = img[:,:,1].max()\n",
    "maxb = img[:,:,2].max()\n",
    "\n",
    "img[:,:,0][np.nonzero(img[:,:,0])] = img[:,:,0][np.nonzero(img[:,:,0])]+(maxr-minr)*0.5\n",
    "img[:,:,1][np.nonzero(img[:,:,1])] = img[:,:,1][np.nonzero(img[:,:,1])]+(maxg-ming)*0.5\n",
    "img[:,:,2][np.nonzero(img[:,:,2])] = img[:,:,2][np.nonzero(img[:,:,2])]+(maxb-minb)*0.5\n",
    "\n",
    "print(minr,ming,minb)\n",
    "print(maxr,maxg,maxb)\n",
    "\n",
    "img[:, :, 0] = (img[:, :, 0]) * 255 / (maxr + (maxr - minr)*0.5)\n",
    "img[:, :, 1] = (img[:, :, 1]) * 255 / (maxg + (maxg - ming)*0.5)\n",
    "img[:, :, 2] = (img[:, :, 2]) * 255 / (maxb + (maxb - minb)*0.5)"
   ]
  },
  {
   "cell_type": "code",
   "execution_count": 91,
   "metadata": {},
   "outputs": [
    {
     "data": {
      "text/plain": [
       "True"
      ]
     },
     "execution_count": 91,
     "metadata": {},
     "output_type": "execute_result"
    }
   ],
   "source": [
    "cv2.imwrite('gui.png',img.astype(np.uint8))"
   ]
  },
  {
   "cell_type": "code",
   "execution_count": 89,
   "metadata": {},
   "outputs": [
    {
     "data": {
      "text/plain": [
       "array([1, 2])"
      ]
     },
     "execution_count": 89,
     "metadata": {},
     "output_type": "execute_result"
    }
   ],
   "source": [
    "x=np.array([[1,0],[2,0]])\n",
    "x[np.nonzero(x)]"
   ]
  },
  {
   "cell_type": "code",
   "execution_count": 66,
   "metadata": {},
   "outputs": [
    {
     "name": "stdout",
     "output_type": "stream",
     "text": [
      "0.0 0.0 0.0\n",
      "256.83 256.03000000000003 256.79\n"
     ]
    }
   ],
   "source": [
    "\n",
    "bucket_size = np.zeros([height,width,3],dtype=np.int)\n",
    "\n",
    "for p in point:\n",
    "    if p[1]!='Surface':\n",
    "        p = p[[2,3,4,-2,-1]].astype(float)\n",
    "\n",
    "        bucket[int(p[-2])][int(p[-1])].append(p)\n",
    "        img[int(p[-1]), int(p[-2]), 0] = img[int(p[-1]), int(p[-2]), 0]+p[0]\n",
    "        img[int(p[-1]), int(p[-2]), 1] = img[int(p[-1]), int(p[-2]), 1]+p[1]\n",
    "        img[int(p[-1]), int(p[-2]), 2] = img[int(p[-1]), int(p[-2]), 2]+p[2]\n",
    "        bucket_size[int(p[-1]), int(p[-2]), :] = bucket_size[int(p[-1]), int(p[-2]), :]+1\n",
    "\n",
    "for i in range(bucket_size.shape[0]):\n",
    "    for j in range(bucket_size.shape[1]):\n",
    "        for k in range(bucket_size.shape[2]):\n",
    "            if bucket_size[i,j,k]==0:\n",
    "                bucket_size[i, j, k]=1\n",
    "\n",
    "img = img/bucket_size\n",
    "\n",
    "minr = img[:,:,0].min()\n",
    "ming = img[:,:,1].min()\n",
    "minb = img[:,:,2].min()\n",
    "\n",
    "maxr = img[:,:,0].max()\n",
    "maxg = img[:,:,1].max()\n",
    "maxb = img[:,:,2].max()\n",
    "\n",
    "print(minr,ming,minb)\n",
    "print(maxr,maxg,maxb)\n",
    "\n",
    "img[:, :, 0] = (img[:, :, 0] - minr) * 255 / (maxr - minr)\n",
    "img[:, :, 1] = (img[:, :, 1] - ming) * 255 / (maxg - ming)\n",
    "img[:, :, 2] = (img[:, :, 2] - minb) * 255 / (maxb - minb)\n"
   ]
  },
  {
   "cell_type": "code",
   "execution_count": 67,
   "metadata": {},
   "outputs": [
    {
     "data": {
      "text/plain": [
       "array([[[0.00000000e+00, 0.00000000e+00, 0.00000000e+00],\n",
       "        [0.00000000e+00, 0.00000000e+00, 0.00000000e+00],\n",
       "        [0.00000000e+00, 0.00000000e+00, 0.00000000e+00],\n",
       "        ...,\n",
       "        [1.31966004e-04, 5.38446028e-04, 2.52567197e-04],\n",
       "        [8.73647507e-03, 1.58170919e-01, 2.12962350e-02],\n",
       "        [0.00000000e+00, 0.00000000e+00, 0.00000000e+00]],\n",
       "\n",
       "       [[0.00000000e+00, 0.00000000e+00, 0.00000000e+00],\n",
       "        [0.00000000e+00, 0.00000000e+00, 0.00000000e+00],\n",
       "        [0.00000000e+00, 0.00000000e+00, 0.00000000e+00],\n",
       "        ...,\n",
       "        [4.20933283e-04, 4.39289015e-03, 9.29497637e-04],\n",
       "        [3.06972911e-04, 4.52020388e-03, 7.85769916e-04],\n",
       "        [1.16978241e-03, 1.86413807e-02, 2.81182497e-03]],\n",
       "\n",
       "       [[0.00000000e+00, 0.00000000e+00, 0.00000000e+00],\n",
       "        [0.00000000e+00, 0.00000000e+00, 0.00000000e+00],\n",
       "        [0.00000000e+00, 0.00000000e+00, 0.00000000e+00],\n",
       "        ...,\n",
       "        [0.00000000e+00, 0.00000000e+00, 0.00000000e+00],\n",
       "        [4.05801432e-04, 7.00688821e-03, 1.08053878e-03],\n",
       "        [3.37416528e-04, 3.95869982e-03, 8.16284846e-04]],\n",
       "\n",
       "       ...,\n",
       "\n",
       "       [[0.00000000e+00, 0.00000000e+00, 0.00000000e+00],\n",
       "        [0.00000000e+00, 0.00000000e+00, 0.00000000e+00],\n",
       "        [0.00000000e+00, 0.00000000e+00, 0.00000000e+00],\n",
       "        ...,\n",
       "        [0.00000000e+00, 0.00000000e+00, 0.00000000e+00],\n",
       "        [0.00000000e+00, 0.00000000e+00, 0.00000000e+00],\n",
       "        [0.00000000e+00, 0.00000000e+00, 0.00000000e+00]],\n",
       "\n",
       "       [[0.00000000e+00, 0.00000000e+00, 0.00000000e+00],\n",
       "        [0.00000000e+00, 0.00000000e+00, 0.00000000e+00],\n",
       "        [0.00000000e+00, 0.00000000e+00, 0.00000000e+00],\n",
       "        ...,\n",
       "        [0.00000000e+00, 0.00000000e+00, 0.00000000e+00],\n",
       "        [0.00000000e+00, 0.00000000e+00, 0.00000000e+00],\n",
       "        [0.00000000e+00, 0.00000000e+00, 0.00000000e+00]],\n",
       "\n",
       "       [[0.00000000e+00, 0.00000000e+00, 0.00000000e+00],\n",
       "        [0.00000000e+00, 0.00000000e+00, 0.00000000e+00],\n",
       "        [0.00000000e+00, 0.00000000e+00, 0.00000000e+00],\n",
       "        ...,\n",
       "        [0.00000000e+00, 0.00000000e+00, 0.00000000e+00],\n",
       "        [0.00000000e+00, 0.00000000e+00, 0.00000000e+00],\n",
       "        [0.00000000e+00, 0.00000000e+00, 0.00000000e+00]]])"
      ]
     },
     "execution_count": 67,
     "metadata": {},
     "output_type": "execute_result"
    }
   ],
   "source": [
    "img"
   ]
  },
  {
   "cell_type": "code",
   "execution_count": 58,
   "metadata": {},
   "outputs": [],
   "source": [
    "\n",
    "class myshapefile:\n",
    "    def __init__(self):\n",
    "        inputfile = sf.Reader(\"/g/data1a/ge3/AEM_Model/3D_AEM_model_V3.shp\")\n",
    "        inputrecord = np.array(inputfile.records())\n",
    "\n",
    "        xyz = inputrecord[:,10:13].astype(float) #nx3 matrix\n",
    "\n",
    "        height = len(np.unique(xyz[:,2], axis=0))\n",
    "        width = len(np.unique(xyz[:,0:2], axis=0))\n",
    "\n",
    "        #project x, y onto a line\n",
    "        pca = sd.PCA(n_components=1)\n",
    "        pca.fit(xyz[:,0:2])\n",
    "        xy = pca.transform(xyz[:,0:2])\n",
    "\n",
    "        print(inputrecord.shape)\n",
    "        print(xy.shape)\n",
    "\n",
    "\n",
    "        self.point = np.hstack([inputrecord,xy.reshape(-1,1),inputrecord[:,12].reshape(-1,1)])\n",
    "\n",
    "\n",
    "\n",
    "\n",
    "\n",
    "    def getimage(self,width,height):\n",
    "        img = np.zeros([height,width,3],dtype=float)\n",
    "\n",
    "        self.bucket = [[[] for h in range(height)] for w in range(width)]\n",
    "\n",
    "        self.point[:,-1] = np.round(\n",
    "                                    (self.point[:,-1].astype(float) - self.point[:,-1].astype(float).min())\n",
    "                                    /(self.point[:,-1].astype(float).max() - self.point[:,-1].astype(float).min())\n",
    "                                    *(height-1)\n",
    "                                   )\n",
    "        self.point[:,-2] = np.round(\n",
    "                                    (self.point[:,-2].astype(float) - self.point[:,-2].astype(float).min())\n",
    "                                    /(self.point[:, -2].astype(float).max() - self.point[:, -2].astype(float).min())\n",
    "                                    *(width-1)\n",
    "                                   )\n",
    "\n",
    "        bucket_size = np.zeros([height,width,3],dtype=np.int)\n",
    "\n",
    "        for p in self.point:\n",
    "            if p[1]!='Surface':\n",
    "                p = p[[2,3,4,-2,-1]].astype(float)\n",
    "\n",
    "                p[-1]=height-p[-1]-1\n",
    "\n",
    "                self.bucket[int(p[-2])][int(p[-1])].append(p)\n",
    "                img[int(p[-1]), int(p[-2]), 0] = img[int(p[-1]), int(p[-2]), 0]+p[0]\n",
    "                img[int(p[-1]), int(p[-2]), 1] = img[int(p[-1]), int(p[-2]), 1]+p[1]\n",
    "                img[int(p[-1]), int(p[-2]), 2] = img[int(p[-1]), int(p[-2]), 2]+p[2]\n",
    "                bucket_size[int(p[-1]), int(p[-2]), :] = bucket_size[int(p[-1]), int(p[-2]), :]+1\n",
    "\n",
    "        for i in range(bucket_size.shape[0]):\n",
    "            for j in range(bucket_size.shape[1]):\n",
    "                for k in range(bucket_size.shape[2]):\n",
    "                    if bucket_size[i,j,k]==0:\n",
    "                        bucket_size[i, j, k]=1\n",
    "\n",
    "        img = img/bucket_size\n",
    "\n",
    "\n",
    "\n",
    "        #return(np.stack([imgr,imgg,imgb],axis=2))\n",
    "        return(img)\n",
    "\n",
    "\n",
    "\n"
   ]
  },
  {
   "cell_type": "code",
   "execution_count": 59,
   "metadata": {},
   "outputs": [
    {
     "name": "stdout",
     "output_type": "stream",
     "text": [
      "(1309936, 15)\n",
      "(1309936, 1)\n"
     ]
    },
    {
     "data": {
      "text/plain": [
       "True"
      ]
     },
     "execution_count": 59,
     "metadata": {},
     "output_type": "execute_result"
    }
   ],
   "source": [
    "\n",
    "x=myshapefile()\n",
    "y=x.getimage(800,600)\n",
    "cv2.imwrite('gui.png',y)"
   ]
  },
  {
   "cell_type": "code",
   "execution_count": 62,
   "metadata": {},
   "outputs": [
    {
     "data": {
      "text/plain": [
       "True"
      ]
     },
     "execution_count": 62,
     "metadata": {},
     "output_type": "execute_result"
    }
   ],
   "source": [
    "cv2.imwrite('gui.png',y)"
   ]
  },
  {
   "cell_type": "code",
   "execution_count": 46,
   "metadata": {},
   "outputs": [
    {
     "data": {
      "text/plain": [
       "array([[[0.        , 0.        , 0.        ],\n",
       "        [0.        , 0.        , 0.        ],\n",
       "        [0.        , 0.        , 0.        ],\n",
       "        ...,\n",
       "        [0.        , 0.        , 0.        ],\n",
       "        [0.        , 0.        , 0.        ],\n",
       "        [0.        , 0.        , 0.        ]],\n",
       "\n",
       "       [[0.        , 0.        , 0.        ],\n",
       "        [0.        , 0.        , 0.        ],\n",
       "        [0.        , 0.        , 0.        ],\n",
       "        ...,\n",
       "        [0.        , 0.        , 0.        ],\n",
       "        [0.        , 0.        , 0.        ],\n",
       "        [0.        , 0.        , 0.        ]],\n",
       "\n",
       "       [[0.        , 0.        , 0.        ],\n",
       "        [0.        , 0.        , 0.        ],\n",
       "        [0.        , 0.        , 0.        ],\n",
       "        ...,\n",
       "        [0.        , 0.        , 0.        ],\n",
       "        [0.        , 0.        , 0.        ],\n",
       "        [0.        , 0.        , 0.        ]],\n",
       "\n",
       "       ...,\n",
       "\n",
       "       [[0.        , 0.        , 0.        ],\n",
       "        [0.        , 0.        , 0.        ],\n",
       "        [0.        , 0.        , 0.        ],\n",
       "        ...,\n",
       "        [0.        , 0.        , 0.        ],\n",
       "        [0.00205699, 0.040319  , 0.0052506 ],\n",
       "        [0.00119217, 0.02578883, 0.00299953]],\n",
       "\n",
       "       [[0.        , 0.        , 0.        ],\n",
       "        [0.        , 0.        , 0.        ],\n",
       "        [0.        , 0.        , 0.        ],\n",
       "        ...,\n",
       "        [0.00264754, 0.03515534, 0.00604022],\n",
       "        [0.00138445, 0.02763232, 0.00355686],\n",
       "        [0.00611124, 0.11034674, 0.01477494]],\n",
       "\n",
       "       [[0.        , 0.        , 0.        ],\n",
       "        [0.        , 0.        , 0.        ],\n",
       "        [0.        , 0.        , 0.        ],\n",
       "        ...,\n",
       "        [0.00054809, 0.00660194, 0.00122831],\n",
       "        [0.01713934, 0.31317961, 0.04181145],\n",
       "        [0.        , 0.        , 0.        ]]])"
      ]
     },
     "execution_count": 46,
     "metadata": {},
     "output_type": "execute_result"
    }
   ],
   "source": [
    "img[:, :, 0] = (img[:, :, 0] - minr) * 255 / (maxr - minr)\n",
    "img[:, :, 1] = (img[:, :, 1] - ming) * 255 / (maxg - ming)\n",
    "img[:, :, 2] = (img[:, :, 2] - minb) * 255 / (maxb - minb)"
   ]
  },
  {
   "cell_type": "code",
   "execution_count": 22,
   "metadata": {},
   "outputs": [
    {
     "data": {
      "text/plain": [
       "array([ 1, 18,  3])"
      ]
     },
     "execution_count": 22,
     "metadata": {},
     "output_type": "execute_result"
    }
   ],
   "source": [
    "x"
   ]
  },
  {
   "cell_type": "code",
   "execution_count": null,
   "metadata": {},
   "outputs": [],
   "source": []
  }
 ],
 "metadata": {
  "kernelspec": {
   "display_name": "Python 3",
   "language": "python",
   "name": "python3"
  },
  "language_info": {
   "codemirror_mode": {
    "name": "ipython",
    "version": 3
   },
   "file_extension": ".py",
   "mimetype": "text/x-python",
   "name": "python",
   "nbconvert_exporter": "python",
   "pygments_lexer": "ipython3",
   "version": "3.6.5"
  }
 },
 "nbformat": 4,
 "nbformat_minor": 2
}
